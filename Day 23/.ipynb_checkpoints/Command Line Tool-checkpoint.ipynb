{
 "cells": [
  {
   "cell_type": "code",
   "execution_count": 1,
   "metadata": {},
   "outputs": [
    {
     "name": "stdout",
     "output_type": "stream",
     "text": [
      "What is your name?\n",
      "\n"
     ]
    }
   ],
   "source": [
    "name = input(\"What is your name?\\n\") or 'World'"
   ]
  },
  {
   "cell_type": "code",
   "execution_count": 2,
   "metadata": {},
   "outputs": [
    {
     "name": "stdout",
     "output_type": "stream",
     "text": [
      "hello World\n"
     ]
    }
   ],
   "source": [
    "print(\"hello\", name)"
   ]
  },
  {
   "cell_type": "code",
   "execution_count": 3,
   "metadata": {},
   "outputs": [
    {
     "name": "stdout",
     "output_type": "stream",
     "text": [
      "What is your name?\n",
      "\n",
      "What is your name?\n",
      "\n",
      "What is your name?\n",
      "\n",
      "What is your name?\n",
      "\n",
      "What is your name?\n",
      "\n",
      "What is your name?\n",
      "\n",
      "What is your name?\n",
      "\n",
      "What is your name?\n",
      "\n",
      "What is your name?\n",
      "\n",
      "What is your name?\n",
      "\n",
      "What is your name?\n",
      "\n"
     ]
    }
   ],
   "source": [
    "tries = 0\n",
    "while True:\n",
    "    name = input(\"What is your name?\\n\")\n",
    "    if name != None and name != \"\":\n",
    "        break\n",
    "    else:\n",
    "        tries += 1\n",
    "    if tries > 10:\n",
    "        break\n",
    "    else:\n",
    "        continue"
   ]
  },
  {
   "cell_type": "code",
   "execution_count": 4,
   "metadata": {},
   "outputs": [
    {
     "name": "stdout",
     "output_type": "stream",
     "text": [
      "Type password········\n"
     ]
    }
   ],
   "source": [
    "from getpass import getpass\n",
    "pwd = getpass(\"Type password\")"
   ]
  },
  {
   "cell_type": "code",
   "execution_count": 5,
   "metadata": {},
   "outputs": [
    {
     "name": "stdout",
     "output_type": "stream",
     "text": [
      "\n"
     ]
    }
   ],
   "source": [
    "print(pwd)"
   ]
  },
  {
   "cell_type": "code",
   "execution_count": 6,
   "metadata": {},
   "outputs": [
    {
     "name": "stdout",
     "output_type": "stream",
     "text": [
      "Overwriting raw_input.py\n"
     ]
    }
   ],
   "source": [
    "%%writefile raw_input.py\n",
    "\n",
    "from getpass import getpass\n",
    "\n",
    "name = input(\"What's your name?\\n\")\n",
    "pwd = getpass(\"Type password\")\n",
    "\n",
    "print(name, pwd)"
   ]
  },
  {
   "cell_type": "code",
   "execution_count": 7,
   "metadata": {},
   "outputs": [
    {
     "name": "stdout",
     "output_type": "stream",
     "text": [
      "Overwriting cli_sys.py\n"
     ]
    }
   ],
   "source": [
    "%%writefile cli_sys.py\n",
    "\n",
    "import sys\n",
    "\n",
    "if __name__ == \"__main__\":\n",
    "#     print(sys.argv)\n",
    "    try:\n",
    "        name = sys.argv[1] #uses positional arguments\n",
    "        pwd =\"\"\n",
    "        print(name, pwd)\n",
    "    except:\n",
    "        name = input(\"What's your name?\\n\")\n",
    "        from getpass import getpass\n",
    "        pwd = getpass(\"Type password\\n\")\n",
    "        print(name, pwd)"
   ]
  },
  {
   "cell_type": "code",
   "execution_count": 20,
   "metadata": {},
   "outputs": [
    {
     "name": "stdout",
     "output_type": "stream",
     "text": [
      "Overwriting cli_argparse.py\n"
     ]
    }
   ],
   "source": [
    "%%writefile cli_argparse.py\n",
    "\n",
    "import argparse\n",
    "\n",
    "def my_const_fun(*args,**kwargs):\n",
    "    print('const',args,kwargs)\n",
    "    \n",
    "def my_default_fun(*args,**kwargs):\n",
    "    print('default',args,kwargs)\n",
    " \n",
    "if __name__ == \"__main__\":\n",
    "    parser = argparse.ArgumentParser()\n",
    "    parser.add_argument(\"integers\",type=int,nargs=\"+\")\n",
    "#     parser.add_argument(\"--sum\",dest='accumulate',action='store_const',const=sum ,default=max)\n",
    "    parser.add_argument(\"--math\",dest='math_is_fun',action='store_const',const=my_const_fun ,default=my_default_fun)\n",
    "    args = parser.parse_args()\n",
    "#     print(args.accumulate(args.integers))\n",
    "#     print(sum(args.integers))\n",
    "#     print(max(args.integers))\n",
    "    print(args.math_is_fun(args.integers))\n",
    "    "
   ]
  },
  {
   "cell_type": "code",
   "execution_count": 21,
   "metadata": {},
   "outputs": [
    {
     "name": "stdout",
     "output_type": "stream",
     "text": [
      "Collecting fire"
     ]
    },
    {
     "name": "stderr",
     "output_type": "stream",
     "text": [
      "WARNING: You are using pip version 19.2.3, however version 20.2.2 is available.\n",
      "You should consider upgrading via the 'python -m pip install --upgrade pip' command.\n"
     ]
    },
    {
     "name": "stdout",
     "output_type": "stream",
     "text": [
      "\n",
      "  Downloading https://files.pythonhosted.org/packages/34/a7/0e22e70778aca01a52b9c899d9c145c6396d7b613719cd63db97ffa13f2f/fire-0.3.1.tar.gz (81kB)\n",
      "Requirement already satisfied: six in c:\\users\\charmz\\desktop\\hands-on projects\\30-days-of-python\\day 23\\cmd_tool\\lib\\site-packages (from fire) (1.15.0)\n",
      "Collecting termcolor (from fire)\n",
      "  Downloading https://files.pythonhosted.org/packages/8a/48/a76be51647d0eb9f10e2a4511bf3ffb8cc1e6b14e9e4fab46173aa79f981/termcolor-1.1.0.tar.gz\n",
      "Installing collected packages: termcolor, fire\n",
      "  Running setup.py install for termcolor: started\n",
      "    Running setup.py install for termcolor: finished with status 'done'\n",
      "  Running setup.py install for fire: started\n",
      "    Running setup.py install for fire: finished with status 'done'\n",
      "Successfully installed fire-0.3.1 termcolor-1.1.0\n"
     ]
    }
   ],
   "source": [
    "# !pip install fire"
   ]
  },
  {
   "cell_type": "code",
   "execution_count": 22,
   "metadata": {},
   "outputs": [
    {
     "name": "stdout",
     "output_type": "stream",
     "text": [
      "Writing cli_fire.py\n"
     ]
    }
   ],
   "source": [
    "%%writefile cli_fire.py\n",
    "import fire\n",
    "\n",
    "def hello(name='World'):\n",
    "    return f\"Hello {name}\"\n",
    "\n",
    "if __name__ == \"__main__\":\n",
    "    \n",
    "     fire.Fire(hello)\n"
   ]
  },
  {
   "cell_type": "code",
   "execution_count": 23,
   "metadata": {},
   "outputs": [
    {
     "name": "stdout",
     "output_type": "stream",
     "text": [
      "Writing cli_fire_inputs.py\n"
     ]
    }
   ],
   "source": [
    "%%writefile cli_fire_inputs.py\n",
    "from getpass import getpass\n",
    "import fire\n",
    "\n",
    "def hello(name='World'):\n",
    "    return f\"Hello {name}\"\n",
    "\n",
    "def login(name=None):\n",
    "    if name == None:\n",
    "        name = input(\"What's your name?\\n\")\n",
    "    pwd = getpass(\"Type password\\n\")\n",
    "    return name,pwd\n",
    "if __name__ == \"__main__\":\n",
    "     fire.Fire(login)"
   ]
  },
  {
   "cell_type": "code",
   "execution_count": 33,
   "metadata": {},
   "outputs": [
    {
     "name": "stdout",
     "output_type": "stream",
     "text": [
      "Overwriting cli_fire_pipeline.py\n"
     ]
    }
   ],
   "source": [
    "%%writefile cli_fire_pipeline.py\n",
    "from getpass import getpass\n",
    "import fire\n",
    "\n",
    "class Auth(object):\n",
    "    def login(self,username=None):\n",
    "        if username == None:\n",
    "            username = input(\"Username: \")\n",
    "        if username == None:\n",
    "            print(\"Username is required\")\n",
    "        pwd = getpass(\"Type password: \")\n",
    "        return username,pwd\n",
    "\n",
    "def login(self,username=None):\n",
    "        if username == None:\n",
    "            username = input(\"Username: \")\n",
    "        if username == None:\n",
    "            print(\"Username is required\")\n",
    "        pwd = getpass(\"Type password: \")\n",
    "        return username,pwd\n",
    "\n",
    "def scrape_tag(tag=\"machine-learning\",query_filter=\"Votes\",max_pages=50,pagesize=25):\n",
    "    base_url = \"https://stackoverflow.com/tags/\"\n",
    "    datas = []\n",
    "    for p in range(max_pages):\n",
    "        page_num = p + 1\n",
    "        url = f\"{base_url}{tag}?tab={query_filter}&page={page_num}&pagesize={pagesize}\"\n",
    "        #print(url)\n",
    "        datas.append(url)\n",
    "    return datas\n",
    "\n",
    "class Pipeline(object):\n",
    "    def __init__(self):\n",
    "        self.scrape = scrape_tag\n",
    "        self.auth = Auth()\n",
    "        self.login = login\n",
    "\n",
    "if __name__ == \"__main__\":\n",
    "     fire.Fire(Pipeline)"
   ]
  },
  {
   "cell_type": "markdown",
   "metadata": {},
   "source": [
    "### Bonus"
   ]
  },
  {
   "cell_type": "code",
   "execution_count": 34,
   "metadata": {},
   "outputs": [],
   "source": [
    "import inspect\n",
    "from collections import OrderedDict"
   ]
  },
  {
   "cell_type": "code",
   "execution_count": 35,
   "metadata": {},
   "outputs": [],
   "source": [
    "def rando_fn(abc,df=123):\n",
    "    print(abc,df)"
   ]
  },
  {
   "cell_type": "code",
   "execution_count": 39,
   "metadata": {},
   "outputs": [
    {
     "name": "stdout",
     "output_type": "stream",
     "text": [
      "odict_items([('abc', <Parameter \"abc\">), ('df', <Parameter \"df=123\">)])\n",
      "odict_keys(['abc', 'df'])\n",
      "odict_values([<Parameter \"abc\">, <Parameter \"df=123\">])\n"
     ]
    }
   ],
   "source": [
    "sig = inspect.signature(rando_fn)\n",
    "print(sig.parameters.items())\n",
    "print(sig.parameters.keys())\n",
    "print(sig.parameters.values())"
   ]
  },
  {
   "cell_type": "code",
   "execution_count": 40,
   "metadata": {},
   "outputs": [],
   "source": [
    "def get_signature(fn):\n",
    "    params = inspect.signature(fn).parameters\n",
    "    args = []\n",
    "    kwargs = OrderedDict()\n",
    "    for p in params.values():\n",
    "        if p.default is p.empty:\n",
    "            args.append(p.name)\n",
    "        else:\n",
    "            kwargs[p.name] = p.default\n",
    "    return {\"args\":args,\"kwargs\":kwargs}"
   ]
  },
  {
   "cell_type": "code",
   "execution_count": 41,
   "metadata": {},
   "outputs": [
    {
     "data": {
      "text/plain": [
       "{'args': ['abc'], 'kwargs': OrderedDict([('df', 123)])}"
      ]
     },
     "execution_count": 41,
     "metadata": {},
     "output_type": "execute_result"
    }
   ],
   "source": [
    "get_signature(rando_fn)"
   ]
  },
  {
   "cell_type": "code",
   "execution_count": null,
   "metadata": {},
   "outputs": [],
   "source": []
  }
 ],
 "metadata": {
  "kernelspec": {
   "display_name": "Python 3",
   "language": "python",
   "name": "python3"
  },
  "language_info": {
   "codemirror_mode": {
    "name": "ipython",
    "version": 3
   },
   "file_extension": ".py",
   "mimetype": "text/x-python",
   "name": "python",
   "nbconvert_exporter": "python",
   "pygments_lexer": "ipython3",
   "version": "3.8.3"
  }
 },
 "nbformat": 4,
 "nbformat_minor": 4
}
