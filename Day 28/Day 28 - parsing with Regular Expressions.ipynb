{
 "cells": [
  {
   "cell_type": "code",
   "execution_count": 9,
   "metadata": {},
   "outputs": [],
   "source": [
    "my_phone_number = \"555-867-5309\""
   ]
  },
  {
   "cell_type": "code",
   "execution_count": 5,
   "metadata": {},
   "outputs": [
    {
     "data": {
      "text/plain": [
       "'5558675309'"
      ]
     },
     "execution_count": 5,
     "metadata": {},
     "output_type": "execute_result"
    }
   ],
   "source": [
    "numbers = []\n",
    "for char in my_phone_number:\n",
    "    number_val = None\n",
    "    try:\n",
    "        number_val = int(char)\n",
    "    except:\n",
    "        pass\n",
    "    if number_val != None:\n",
    "        numbers.append(number_val)\n",
    "\n",
    "numbers_as_str = \"\".join([f\"{x}\" for x in numbers])\n",
    "numbers_as_str"
   ]
  },
  {
   "cell_type": "code",
   "execution_count": 6,
   "metadata": {},
   "outputs": [
    {
     "data": {
      "text/plain": [
       "'5558675309'"
      ]
     },
     "execution_count": 6,
     "metadata": {},
     "output_type": "execute_result"
    }
   ],
   "source": [
    "numbers_as_str2 = my_phone_number.replace(\"-\", \"\")\n",
    "numbers_as_str2"
   ]
  },
  {
   "cell_type": "code",
   "execution_count": 7,
   "metadata": {},
   "outputs": [
    {
     "data": {
      "text/plain": [
       "'5558675309'"
      ]
     },
     "execution_count": 7,
     "metadata": {},
     "output_type": "execute_result"
    }
   ],
   "source": [
    "numbers_as_str3 = \"\".join([f\"{x}\" for x in my_phone_number if x.isdigit()])\n",
    "numbers_as_str3"
   ]
  },
  {
   "cell_type": "code",
   "execution_count": 11,
   "metadata": {},
   "outputs": [
    {
     "data": {
      "text/plain": [
       "['555', '867', '5309']"
      ]
     },
     "execution_count": 11,
     "metadata": {},
     "output_type": "execute_result"
    }
   ],
   "source": [
    "import re # the built-in regex library\n",
    "\n",
    "pattern = r\"\\d+\"\n",
    "matches = re.findall(pattern, my_phone_number)\n",
    "matches"
   ]
  },
  {
   "cell_type": "code",
   "execution_count": 12,
   "metadata": {},
   "outputs": [
    {
     "data": {
      "text/plain": [
       "['555', '867', '5309', '1', '555', '555', '0007']"
      ]
     },
     "execution_count": 12,
     "metadata": {},
     "output_type": "execute_result"
    }
   ],
   "source": [
    "my_other_phone_numbers = \"Hi there, my home number is 555-867-5309 and my cell number is +1-555-555-0007.\"\n",
    "\n",
    "pattern = r\"\\d+\"\n",
    "matches = re.findall(pattern, my_other_phone_numbers)\n",
    "matches"
   ]
  },
  {
   "cell_type": "markdown",
   "metadata": {},
   "source": [
    "The reason for this is we're looking for a specific pattern to parse in our text; not just digits. We actually want to ignore digits that don't match this pattern. Say, for instance, I gave you a time and my phone number:"
   ]
  },
  {
   "cell_type": "code",
   "execution_count": 13,
   "metadata": {},
   "outputs": [],
   "source": [
    "meeting_str = \"Hey, give me a call at 8:30 on my cell at +1-555-555-0007.\""
   ]
  },
  {
   "cell_type": "markdown",
   "metadata": {},
   "source": [
    " we try to only extract digits, we'll get a few extra we don't need. Take a look:"
   ]
  },
  {
   "cell_type": "code",
   "execution_count": 14,
   "metadata": {},
   "outputs": [
    {
     "data": {
      "text/plain": [
       "['8', '30', '1', '555', '555', '0007']"
      ]
     },
     "execution_count": 14,
     "metadata": {},
     "output_type": "execute_result"
    }
   ],
   "source": [
    "pattern = r\"\\d+\"\n",
    "matches2 = re.findall(pattern, meeting_str)\n",
    "matches2"
   ]
  },
  {
   "cell_type": "markdown",
   "metadata": {},
   "source": [
    "So what we need to do is improve our regular expression pattern. Let's see how:"
   ]
  },
  {
   "cell_type": "code",
   "execution_count": 15,
   "metadata": {},
   "outputs": [
    {
     "data": {
      "text/plain": [
       "['+1-555-555-0007']"
      ]
     },
     "execution_count": 15,
     "metadata": {},
     "output_type": "execute_result"
    }
   ],
   "source": [
    "phone_pattern = r\"\\+\\d{1}-\\d{3}-\\d{3}-\\d{4}\"\n",
    "matches3 = re.findall(phone_pattern, meeting_str)\n",
    "matches3"
   ]
  },
  {
   "cell_type": "markdown",
   "metadata": {},
   "source": [
    "To match any digit, you use the string r\"\\d\". The r in the front signifies this is a regular expression. The \\d is the pattern to match any number digit."
   ]
  },
  {
   "cell_type": "code",
   "execution_count": 16,
   "metadata": {},
   "outputs": [
    {
     "name": "stdout",
     "output_type": "stream",
     "text": [
      "['123.122'] []\n"
     ]
    }
   ],
   "source": [
    "numbers_with_decimals = r\"\\d+\\.\\d+\"\n",
    "matches4 = re.findall(numbers_with_decimals, \"123.122\")\n",
    "no_matches = re.findall(numbers_with_decimals, \"12\")\n",
    "print(matches4, no_matches)"
   ]
  },
  {
   "cell_type": "markdown",
   "metadata": {},
   "source": [
    " if our regex pattern needs to use + or . we have to escape them with \\\\+ and \\\\. respectively."
   ]
  },
  {
   "cell_type": "markdown",
   "metadata": {},
   "source": [
    "So going back to the pattern r\"\\+\\d{1}-\\d{3}-\\d{3}-\\d{4}\", let's break it into 4 chunks:"
   ]
  },
  {
   "cell_type": "markdown",
   "metadata": {},
   "source": [
    "- Chunk 1. \\+\\d{1}- If the string we were parsing was 1-444-444-444\" no match would be found. It must start with a + \n",
    "- Chunk 2. \\d{3}-   matches any \\d digit that is {3} 3 characters long with a trailing - dash.\n",
    "- Chunk 3. \\d{3}-   matches any \\d digit that is {3} 3 characters long with a trailing - dash.\n",
    "- Chunk 4. \\d{4}    matches any \\d digit that is {4} 4 characters long"
   ]
  },
  {
   "cell_type": "markdown",
   "metadata": {},
   "source": [
    "how do we make this pattern optionally start with +?"
   ]
  },
  {
   "cell_type": "code",
   "execution_count": 17,
   "metadata": {},
   "outputs": [
    {
     "name": "stdout",
     "output_type": "stream",
     "text": [
      "['1-555-867-5309']\n",
      "['+1-555-867-5309']\n"
     ]
    }
   ],
   "source": [
    "phone_pattern2 = r\"\\+?\\d{1}-\\d{3}-\\d{3}-\\d{4}\"\n",
    "area_code_only_number = \"1-555-867-5309\"\n",
    "print(re.findall(phone_pattern2, area_code_only_number))\n",
    "\n",
    "international_num = \"+1-555-867-5309\"\n",
    "print(re.findall(phone_pattern2, international_num))"
   ]
  },
  {
   "cell_type": "markdown",
   "metadata": {},
   "source": [
    "let's make the - optional as well since many people write their numbers like +15558655309."
   ]
  },
  {
   "cell_type": "code",
   "execution_count": 18,
   "metadata": {},
   "outputs": [
    {
     "name": "stdout",
     "output_type": "stream",
     "text": [
      "['+15558655309']\n",
      "['15558655309']\n",
      "['1555-8655309']\n",
      "['+1555-865-5309']\n"
     ]
    }
   ],
   "source": [
    "phone_pattern3 = r\"\\+?\\d{1}-?\\d{3}-?\\d{3}-?\\d{4}\"\n",
    "\n",
    "dashless = \"+15558655309\"\n",
    "print(re.findall(phone_pattern3, dashless))\n",
    "\n",
    "dashless_plusless = \"15558655309\"\n",
    "\n",
    "print(re.findall(phone_pattern3, dashless_plusless))\n",
    "\n",
    "some_dashes = \"1555-8655309\"\n",
    "\n",
    "print(re.findall(phone_pattern3, some_dashes))\n",
    "\n",
    "some_dashes_and_plus = \"+1555-865-5309\"\n",
    "\n",
    "print(re.findall(phone_pattern3, some_dashes_and_plus))"
   ]
  },
  {
   "cell_type": "markdown",
   "metadata": {},
   "source": [
    "Now, we're talking. A much, much better extractor. How about numbers with parentheses (555)-867-5309? Yet another, ~fun~ way to write phone numbers.\n",
    "\n",
    "Like the plus +, parentheses are special characters that regex uses. So we have to escape both open parentheses \\\\\\( and close parentheses \\\\\\). Before we add the parentheses, let's make it easier to see how our chunks are working:"
   ]
  },
  {
   "cell_type": "code",
   "execution_count": 19,
   "metadata": {},
   "outputs": [
    {
     "data": {
      "text/plain": [
       "re.compile(r'\\+?\\d{1}-?\\d{3}-?\\d{3}-?\\d{4}', re.UNICODE)"
      ]
     },
     "execution_count": 19,
     "metadata": {},
     "output_type": "execute_result"
    }
   ],
   "source": [
    "chunk_1 = \"\\+?\\d{1}-?\"\n",
    "chunk_2 = \"\\d{3}-?\"\n",
    "chunk_3 = \"\\d{3}-?\"\n",
    "chunk_4 = \"\\d{4}\"\n",
    "\n",
    "phone_pattern4 = f\"{chunk_1}{chunk_2}{chunk_3}{chunk_4}\"\n",
    "\n",
    "phone_pattern4_regex = re.compile(phone_pattern4)\n",
    "phone_pattern4_regex"
   ]
  },
  {
   "cell_type": "markdown",
   "metadata": {},
   "source": [
    "Using re.compile allows us to use standard python string substitution to make our pattern. To use it, we just run:"
   ]
  },
  {
   "cell_type": "code",
   "execution_count": 20,
   "metadata": {},
   "outputs": [
    {
     "data": {
      "text/plain": [
       "['+1555-865-5309']"
      ]
     },
     "execution_count": 20,
     "metadata": {},
     "output_type": "execute_result"
    }
   ],
   "source": [
    "phone_pattern4_regex.findall(some_dashes_and_plus)"
   ]
  },
  {
   "cell_type": "markdown",
   "metadata": {},
   "source": [
    "Note that when we use re.compile on a pattern (like our phone_pattern_4) we can change re.findall(pattern, string) to <our-compiled-instance>.findall(string) or re.findall(<our-compiled-instance>, string)\n",
    "\n",
    "Now, let's adjust our chunks to account for parentheses in chunk_2:"
   ]
  },
  {
   "cell_type": "code",
   "execution_count": 21,
   "metadata": {},
   "outputs": [
    {
     "name": "stdout",
     "output_type": "stream",
     "text": [
      "['+1-(555)-867-5309']\n",
      "['+1-555-867-5309']\n"
     ]
    }
   ],
   "source": [
    "chunk_1 = \"\\+?\\d{1}-?\"\n",
    "new_chunk_2 = \"\\(?\" + \"\\d{3}\" + \"\\)?\" + \"-?\"\n",
    "chunk_3 = \"\\d{3}-?\"\n",
    "chunk_4 = \"\\d{4}\"\n",
    "\n",
    "phone_pattern5 = f\"{chunk_1}{new_chunk_2}{chunk_3}{chunk_4}\"\n",
    "\n",
    "phone_pattern5_regex = re.compile(phone_pattern5)\n",
    "\n",
    "some_parentheses = \"+1-(555)-867-5309\"\n",
    "\n",
    "print(phone_pattern5_regex.findall(some_parentheses))\n",
    "\n",
    "no_parentheses = \"+1-555-867-5309\"\n",
    "\n",
    "print(phone_pattern5_regex.findall(no_parentheses))"
   ]
  },
  {
   "cell_type": "markdown",
   "metadata": {},
   "source": [
    "We're really close to having a finished parser here. There's one other aspect we need to adjust. chunk_1 is almost entirely optional. This is certainly true if you're already in the US. So let's fix that:"
   ]
  },
  {
   "cell_type": "code",
   "execution_count": 22,
   "metadata": {},
   "outputs": [
    {
     "name": "stdout",
     "output_type": "stream",
     "text": [
      "['(555)-867-5309']\n",
      "['+1-(555)-867-5309']\n"
     ]
    }
   ],
   "source": [
    "new_chunk_1 = \"\\+?\\d{0,1}-?\"\n",
    "new_chunk_2 = \"\\(?\" + \"\\d{3}\" + \"\\)?\" + \"-?\"\n",
    "chunk_3 = \"\\d{3}-?\"\n",
    "chunk_4 = \"\\d{4}\"\n",
    "\n",
    "phone_pattern6 = f\"{new_chunk_1}{new_chunk_2}{chunk_3}{chunk_4}\"\n",
    "\n",
    "phone_pattern6_regex = re.compile(phone_pattern6)\n",
    "\n",
    "with_areacode_only = \"(555)-867-5309\"\n",
    "\n",
    "print(phone_pattern6_regex.findall(with_areacode_only))\n",
    "\n",
    "international_again = \"+1-(555)-867-5309\"\n",
    "\n",
    "print(phone_pattern6_regex.findall(international_again))"
   ]
  },
  {
   "cell_type": "markdown",
   "metadata": {},
   "source": [
    "wikipedia says about North American phone numbers, when need to adjust chunk_2 and chunk_3 to only allow for:\n",
    "\n",
    "First digit between [2-9]\n",
    "Second and third digits between [0-9]\n",
    "Luckily, this introduces a new feature of regular expressions for us. Remember the good old \\\\d syntax? That captures all numbers... but what if we only want certain digits? Let's take a look:"
   ]
  },
  {
   "cell_type": "code",
   "execution_count": 24,
   "metadata": {},
   "outputs": [
    {
     "name": "stdout",
     "output_type": "stream",
     "text": [
      "invalid_digits_format []\n",
      "valid_digits_format []\n"
     ]
    }
   ],
   "source": [
    "chunk_1 = \"\\+?\\d{0,1}-?\"\n",
    "chunk_2 = \"\\(?\" + \"\\d{3}\" + \"\\)?\" + \"-?\"\n",
    "chunk_3 = \"\\d{3}-?\"\n",
    "chunk_4 = \"\\d{4}\"\n",
    "\n",
    "chunk_2_new = \"\\(?\" + \"[2-9]{3}\" + \"\\)?\" + \"-?\"\n",
    "chunk_3_new = \"[0-9]{3}-?\"\n",
    "\n",
    "nanp_number_pattern = f\"{chunk_1}{chunk_2_new}{chunk_3_new}{chunk_4}\"\n",
    "\n",
    "invalid_digits_format = \"(155)-067-5309\"\n",
    "\n",
    "print(\"invalid_digits_format\", re.compile(nanp_number_pattern).findall(invalid_digits_format))\n",
    "\n",
    "\n",
    "valid_digits_format = \"(215)-827-5309\"\n",
    "\n",
    "print(\"valid_digits_format\", re.compile(nanp_number_pattern).findall(valid_digits_format))"
   ]
  },
  {
   "cell_type": "markdown",
   "metadata": {},
   "source": [
    "Now we can see, if we want to allow ony certain digits, we just pass a list [] with the digits we want (this is true for letters as well but more on that later).\n",
    "\n",
    "Here's a few examples worth trying:\n",
    "\n",
    "- Only even numbers: [02468]\n",
    "- Only odd numbers: [13579]\n",
    "- Only 1, 4, and 9: [149]\n",
    "- Only numbers between 4 and 8: [4-8]\n",
    "So \\\\d is the shortcut of [0-9]. So chunk_4 = \"\\\\d{4}\" can also be written as chunk_4 = \"[0-9]{4}\".\n",
    "\n",
    "Unfortunately, we need to update chunk_2 and chunk_3 a bit more. The first digit (not all 3) needs to be between 2-9 and the second 2 needs to be between 0-9. Let's see how that's done:"
   ]
  },
  {
   "cell_type": "code",
   "execution_count": 25,
   "metadata": {},
   "outputs": [
    {
     "name": "stdout",
     "output_type": "stream",
     "text": [
      "invalid_digits_format2 []\n",
      "valid_digits_format2 ['(205)-203-5309']\n"
     ]
    }
   ],
   "source": [
    "chunk_1 = \"\\+?\\d{0,1}-?\"\n",
    "chunk_2 = \"\\(?\" + \"\\d{3}\" + \"\\)?\" + \"-?\"\n",
    "chunk_3 = \"\\d{3}-?\"\n",
    "chunk_4 = \"\\d{4}\"\n",
    "\n",
    "chunk_2_new = \"\\(?\" + \"[2-9]{1}\" + \"[0-9]{2}\" + \"\\)?\" + \"-?\"\n",
    "chunk_3_new = \"[2-9]{1}\" + \"[0-9]{2}\" + \"-?\"\n",
    "\n",
    "\n",
    "nanp_number_pattern2 = f\"{chunk_1}{chunk_2_new}{chunk_3_new}{chunk_4}\"\n",
    "\n",
    "invalid_digits_format2 = \"(108)-002-5309\"\n",
    "\n",
    "print(\"invalid_digits_format2\", re.compile(nanp_number_pattern2).findall(invalid_digits_format2))\n",
    "\n",
    "\n",
    "valid_digits_format2 = \"(205)-203-5309\"\n",
    "\n",
    "print(\"valid_digits_format2\", re.compile(nanp_number_pattern2).findall(valid_digits_format2))"
   ]
  },
  {
   "cell_type": "markdown",
   "metadata": {},
   "source": [
    "The or | operator\n",
    "Sometimes you need to allow for 2 different kinds of patterns in any given regex. Let's just keep on our phone pattern and allow 555 or [4-9]\n",
    "\n",
    "Let's say I wanted to restrict the area code (ie chunk_2) to only match 2 different area codes. I'll do 212 and 213"
   ]
  },
  {
   "cell_type": "code",
   "execution_count": 26,
   "metadata": {},
   "outputs": [
    {
     "name": "stdout",
     "output_type": "stream",
     "text": [
      "ny_city_number ['(212)-342-3223']\n",
      "la_city_number ['213-323-1233']\n",
      "chicago_city_number []\n"
     ]
    }
   ],
   "source": [
    "chunk_1 = \"\\+?\\d{0,1}-?\"\n",
    "chunk_2 = \"\\(?\" + \"\\d{3}\" + \"\\)?\" + \"-?\"\n",
    "chunk_3 = \"\\d{3}-?\"\n",
    "chunk_4 = \"\\d{4}\"\n",
    "\n",
    "chunk_2_new = \"\\(?\" + \"(?:213|212)\" + \"\\)?\" + \"-?\"\n",
    "chunk_3_new = \"[2-9]{1}\" + \"[0-9]{2}\" + \"-?\"\n",
    "\n",
    "area_code_matching_pattern = f\"{chunk_1}{chunk_2_new}{chunk_3_new}{chunk_4}\"\n",
    "\n",
    "ny_city_number = \"(212)-342-3223\"\n",
    "\n",
    "print(\"ny_city_number\", re.compile(area_code_matching_pattern).findall(ny_city_number))\n",
    "\n",
    "la_city_number = \"213-323-1233\"\n",
    "\n",
    "print(\"la_city_number\", re.compile(area_code_matching_pattern).findall(la_city_number))\n",
    "\n",
    "\n",
    "chicago_city_number = \"312-323-1233\"\n",
    "\n",
    "print(\"chicago_city_number\", re.compile(area_code_matching_pattern).findall(chicago_city_number))"
   ]
  },
  {
   "cell_type": "markdown",
   "metadata": {},
   "source": [
    "Can we make it a little more dynamic? The answer, like many things, is yes."
   ]
  },
  {
   "cell_type": "code",
   "execution_count": 27,
   "metadata": {},
   "outputs": [
    {
     "name": "stdout",
     "output_type": "stream",
     "text": [
      "dynamic_or_pattern []\n",
      "dynamic_or_pattern ['213']\n",
      "dynamic_or_pattern ['322']\n"
     ]
    }
   ],
   "source": [
    "dynamic_or_pattern = \"(?:213|[3-9]{1}[2-9]{2})\"\n",
    "\n",
    "print(\"dynamic_or_pattern\", re.compile(dynamic_or_pattern).findall(\"234\"))\n",
    "\n",
    "print(\"dynamic_or_pattern\", re.compile(dynamic_or_pattern).findall(\"213\"))\n",
    "\n",
    "print(\"dynamic_or_pattern\", re.compile(dynamic_or_pattern).findall(\"322\"))"
   ]
  },
  {
   "cell_type": "markdown",
   "metadata": {},
   "source": [
    "Groups.\n",
    "We regex, we can group parts of a pattern so they are easier to identify. A phone number is identified as:"
   ]
  },
  {
   "cell_type": "markdown",
   "metadata": {},
   "source": [
    "<country-code>-<area-code>-<exchange-code>-<line-number>"
   ]
  },
  {
   "cell_type": "markdown",
   "metadata": {},
   "source": [
    "This represents:\n",
    "1-212-555-5123"
   ]
  },
  {
   "cell_type": "markdown",
   "metadata": {},
   "source": [
    "- 1 is the country code\n",
    "- 212 is the area code\n",
    "- 555 is the exchange code\n",
    "- 5123 is the line number"
   ]
  },
  {
   "cell_type": "code",
   "execution_count": 29,
   "metadata": {},
   "outputs": [
    {
     "name": "stdout",
     "output_type": "stream",
     "text": [
      "example ['1-212-555-5123']\n"
     ]
    }
   ],
   "source": [
    "chunk_1 = \"\\d{1}-?\"\n",
    "chunk_2 = \"\\d{3}-?\"\n",
    "chunk_3 = \"\\d{3}-?\"\n",
    "chunk_4 = \"\\d{4}\"\n",
    "\n",
    "\n",
    "example = \"1-212-555-5123\"\n",
    "pattern = f\"{chunk_1}{chunk_2}{chunk_3}{chunk_4}\"\n",
    "\n",
    "print('example', re.compile(pattern).findall(example))"
   ]
  },
  {
   "cell_type": "code",
   "execution_count": 30,
   "metadata": {},
   "outputs": [
    {
     "name": "stdout",
     "output_type": "stream",
     "text": [
      "group 1-212-555-5123\n",
      "groups ('1-', '212-', '555-', '5123')\n"
     ]
    }
   ],
   "source": [
    "group_1 = \"(\\d{1}-?)\"\n",
    "group_2 = \"(\\d{3}-?)\"\n",
    "group_3 = \"(\\d{3}-?)\"\n",
    "group_4 = \"(\\d{4})\"\n",
    "\n",
    "\n",
    "example = \"1-212-555-5123\"\n",
    "grouped_pattern = f\"{group_1}{group_2}{group_3}{group_4}\"\n",
    "\n",
    "matched = re.compile(grouped_pattern).match(example)\n",
    "print('group', matched.group())\n",
    "print('groups', matched.groups())"
   ]
  },
  {
   "cell_type": "markdown",
   "metadata": {},
   "source": [
    "Groups are simply chunks of regex with parentheses around them (). Of course, do not escape these parentheses otherwise it's not longer a group. Naturally, the entire pattern is also 1 big group by default as well and this is true with or without parentheses.\n",
    "\n",
    "Now, I only want my groups to have digits (ie no dashes -). That is a simple fix. We just surround the parentheses () around the part of the pattern we want to extract most:"
   ]
  },
  {
   "cell_type": "code",
   "execution_count": 31,
   "metadata": {},
   "outputs": [
    {
     "name": "stdout",
     "output_type": "stream",
     "text": [
      "group 1-212-555-5123\n",
      "groups ('1', '212', '555', '5123')\n"
     ]
    }
   ],
   "source": [
    "group_1 = \"(\\d{1})-?\"\n",
    "group_2 = \"(\\d{3})-?\"\n",
    "group_3 = \"(\\d{3})-?\"\n",
    "group_4 = \"(\\d{4})\"\n",
    "\n",
    "\n",
    "example = \"1-212-555-5123\"\n",
    "grouped_pattern = f\"{group_1}{group_2}{group_3}{group_4}\"\n",
    "\n",
    "matched = re.compile(grouped_pattern).match(example)\n",
    "print('group', matched.group())\n",
    "print('groups', matched.groups())"
   ]
  },
  {
   "cell_type": "markdown",
   "metadata": {},
   "source": [
    "So, how do we access these groups by their type? One way is to select the group based on it's pattern index value + 1 (index 0 is the entire group).\n",
    "\n",
    "group_1 is in index 0 of the entire pattern. The matched group will be in group 1 as you see here:"
   ]
  },
  {
   "cell_type": "code",
   "execution_count": 32,
   "metadata": {},
   "outputs": [
    {
     "name": "stdout",
     "output_type": "stream",
     "text": [
      "country_code 1\n",
      "area_code 212\n",
      "exchange_code 555\n",
      "line_number 5123\n"
     ]
    }
   ],
   "source": [
    "group_1 = \"(\\d{1})-?\"\n",
    "group_2 = \"(\\d{3})-?\"\n",
    "group_3 = \"(\\d{3})-?\"\n",
    "group_4 = \"(\\d{4})\"\n",
    "\n",
    "\n",
    "example = \"1-212-555-5123\"\n",
    "grouped_pattern = f\"{group_1}{group_2}{group_3}{group_4}\"\n",
    "\n",
    "matched = re.compile(grouped_pattern).match(example)\n",
    "country_code = matched.group(1)\n",
    "print('country_code', country_code)\n",
    "\n",
    "area_code = matched.group(2)\n",
    "print('area_code', area_code)\n",
    "\n",
    "exchange_code = matched.group(3)\n",
    "print('exchange_code', exchange_code)\n",
    "\n",
    "line_number = matched.group(4)\n",
    "print('line_number', line_number)"
   ]
  },
  {
   "cell_type": "markdown",
   "metadata": {},
   "source": [
    "This method works perfectly fine but we might need something a bit more robust. Thus...\n",
    "\n",
    "Named Groups.\n",
    "Named groups allow you to add a keyword to each group in your regex expression. Let's take a look:"
   ]
  },
  {
   "cell_type": "code",
   "execution_count": 33,
   "metadata": {},
   "outputs": [
    {
     "name": "stdout",
     "output_type": "stream",
     "text": [
      "named_groups {'country_code': '1', 'area_code': '212', 'exchange_code': '555', 'line_number': '5123'}\n"
     ]
    }
   ],
   "source": [
    "named_group_1 = \"(?P<country_code>\\d{1})-?\"\n",
    "named_group_2 = \"(?P<area_code>\\d{3})-?\"\n",
    "named_group_3 = \"(?P<exchange_code>\\d{3})-?\"\n",
    "named_group_4 = \"(?P<line_number>\\d{4})\"\n",
    "\n",
    "\n",
    "example = \"1-212-555-5123\"\n",
    "named_group_pattern = f\"{named_group_1}{named_group_2}{named_group_3}{named_group_4}\"\n",
    "\n",
    "matched = re.compile(named_group_pattern).match(example)\n",
    "print('named_groups', matched.groupdict())\n",
    "# you can also use matched['country_code']"
   ]
  },
  {
   "cell_type": "code",
   "execution_count": 34,
   "metadata": {},
   "outputs": [
    {
     "name": "stdout",
     "output_type": "stream",
     "text": [
      "Phone 1 {'country_code': '1', 'area_code': '555', 'exchange_code': '867', 'line_number': '5309'}\n",
      "Phone 2 {'country_code': '1', 'area_code': '555', 'exchange_code': '555', 'line_number': '0007'}\n"
     ]
    }
   ],
   "source": [
    "long_example =  \"Hi there, my home number is 1-555-867-5309 and my cell number is 1-555-555-0007.\"\n",
    "all_matches = re.compile(named_group_pattern).finditer(long_example)\n",
    "for i, m in enumerate(all_matches):\n",
    "    print(f\"Phone {i+1}\", m.groupdict())"
   ]
  },
  {
   "cell_type": "markdown",
   "metadata": {},
   "source": [
    "What is finditer? It's similar to findall but it allows us to see each match's groupdict(). findall does work but it strips the named group. Each iteration of finditer is an instance exactly like re.match(pattern, example)"
   ]
  },
  {
   "cell_type": "markdown",
   "metadata": {},
   "source": [
    "\n",
    "\n",
    "What about letters?\n",
    "Everything we've done so far is using digits with \\d or [0-9]. Letters is almost identical but, since letters can be capitalized, you can use [a-z] or [A-Z] in place of [0-9].\n",
    "\n",
    "Let's see an example:"
   ]
  },
  {
   "cell_type": "code",
   "execution_count": 35,
   "metadata": {},
   "outputs": [
    {
     "name": "stdout",
     "output_type": "stream",
     "text": [
      "['e', 'l', 'l', 'o', 'w', 'o', 'r', 'l', 'd', 'h', 'a', 'v', 'e', 'a', 's', 'c', 'o', 'r', 'e', 'o', 'f', 'o', 'w', 'c', 'o', 'o', 'l', 'i', 's', 't', 'h', 'a', 't']\n"
     ]
    }
   ],
   "source": [
    "my_text = \"Hello world. I have a score of 100/100. How cool is that?\"\n",
    "\n",
    "pattern = r\"[a-z]\"\n",
    "\n",
    "print(re.findall(pattern, my_text))"
   ]
  },
  {
   "cell_type": "markdown",
   "metadata": {},
   "source": [
    "As you can see, it only takes the lowercase letters; no spaces, no numbers, no punctuation."
   ]
  },
  {
   "cell_type": "code",
   "execution_count": 36,
   "metadata": {},
   "outputs": [
    {
     "name": "stdout",
     "output_type": "stream",
     "text": [
      "['H', 'I', 'H']\n"
     ]
    }
   ],
   "source": [
    "my_text = \"Hello world. I have a score of 100/100. How cool is that?\"\n",
    "\n",
    "pattern = r\"[A-Z]\"\n",
    "\n",
    "print(re.findall(pattern, my_text))"
   ]
  },
  {
   "cell_type": "markdown",
   "metadata": {},
   "source": [
    "Now only uppercase letters."
   ]
  },
  {
   "cell_type": "code",
   "execution_count": 37,
   "metadata": {},
   "outputs": [
    {
     "name": "stdout",
     "output_type": "stream",
     "text": [
      "['H', 'e', 'l', 'l', 'o', 'w', 'o', 'r', 'l', 'd', 'I', 'h', 'a', 'v', 'e', 'a', 's', 'c', 'o', 'r', 'e', 'o', 'f', 'H', 'o', 'w', 'c', 'o', 'o', 'l', 'i', 's', 't', 'h', 'a', 't']\n"
     ]
    }
   ],
   "source": [
    "my_text = \"Hello world. I have a score of 100/100. How cool is that?\"\n",
    "\n",
    "pattern = r\"[a-zA-Z]\"\n",
    "\n",
    "print(re.findall(pattern, my_text))"
   ]
  },
  {
   "cell_type": "code",
   "execution_count": 38,
   "metadata": {},
   "outputs": [
    {
     "name": "stdout",
     "output_type": "stream",
     "text": [
      "['H', 'e', 'l', 'l', 'o', 'w', 'o', 'r', 'l', 'd', 'I', 'h', 'a', 'v', 'e', 'a', 's', 'c', 'o', 'r', 'e', 'o', 'f', '1', '0', '0', '1', '0', '0', 'H', 'o', 'w', 'c', 'o', 'o', 'l', 'i', 's', 't', 'h', 'a', 't']\n"
     ]
    }
   ],
   "source": [
    "my_text = \"Hello world. I have a score of 100/100. How cool is that?\"\n",
    "\n",
    "pattern = r\"[0-9a-zA-Z]\"\n",
    "\n",
    "print(re.findall(pattern, my_text))"
   ]
  },
  {
   "cell_type": "markdown",
   "metadata": {},
   "source": [
    "Now all letters and numbers"
   ]
  },
  {
   "cell_type": "code",
   "execution_count": 39,
   "metadata": {},
   "outputs": [
    {
     "name": "stdout",
     "output_type": "stream",
     "text": [
      "['H', 'e', 'l', 'l', 'o', ' ', 'w', 'o', 'r', 'l', 'd', ' ', 'I', ' ', 'h', 'a', 'v', 'e', ' ', 'a', ' ', 's', 'c', 'o', 'r', 'e', ' ', 'o', 'f', ' ', '1', '0', '0', '1', '0', '0', ' ', 'H', 'o', 'w', ' ', 'c', 'o', 'o', 'l', ' ', 'i', 's', ' ', 't', 'h', 'a', 't']\n"
     ]
    }
   ],
   "source": [
    "my_text = \"Hello world. I have a score of 100/100. How cool is that?\"\n",
    "\n",
    "pattern = r\"[0-9a-zA-Z ]\"\n",
    "\n",
    "print(re.findall(pattern, my_text))"
   ]
  },
  {
   "cell_type": "markdown",
   "metadata": {},
   "source": [
    "Now letters and spaces because I added a space to r\"[0-9a-zA-Z ]\""
   ]
  },
  {
   "cell_type": "code",
   "execution_count": 40,
   "metadata": {},
   "outputs": [
    {
     "name": "stdout",
     "output_type": "stream",
     "text": [
      "['H', 'e', 'l', 'l', 'o', ' ', 'w', 'o', 'r', 'l', 'd', ' ', 'I', ' ', 'h', 'a', 'v', 'e', ' ', 'a', ' ', 's', 'c', 'o', 'r', 'e', ' ', 'o', 'f', ' ', '1', '0', '0', '/', '1', '0', '0', ' ', 'H', 'o', 'w', ' ', 'c', 'o', 'o', 'l', ' ', 'i', 's', ' ', 't', 'h', 'a', 't']\n"
     ]
    }
   ],
   "source": [
    "my_text = \"Hello world. I have a score of 100/100. How cool is that?\"\n",
    "\n",
    "pattern = r\"[0-9a-zA-Z \\/\\\\]\"\n",
    "\n",
    "print(re.findall(pattern, my_text))"
   ]
  },
  {
   "cell_type": "markdown",
   "metadata": {},
   "source": [
    "Now some punctuation. With regex, I have to escape backslashes \\ with a backslash \\ resulting in \\\\. I also have to escape forward slash / with a backslash \\ resulting in \\/.\n",
    "\n",
    "Just like \\d, I can use \\w to accomplish something cool:"
   ]
  },
  {
   "cell_type": "code",
   "execution_count": 42,
   "metadata": {},
   "outputs": [
    {
     "name": "stdout",
     "output_type": "stream",
     "text": [
      "['H', 'e', 'l', 'l', 'o', 'w', 'o', 'r', 'l', 'd', 'I', 'h', 'a', 'v', 'e', 'a', 's', 'c', 'o', 'r', 'e', 'o', 'f', '1', '0', '0', '1', '0', '0', 'H', 'o', 'w', 'c', 'o', 'o', 'l', 'i', 's', 't', 'h', 'a', 't']\n"
     ]
    }
   ],
   "source": [
    "my_text = \"Hello world. I have a score of 100/100. How cool is that?\"\n",
    "\n",
    "pattern = r\"\\w\"\n",
    "\n",
    "print(re.findall(pattern, my_text))"
   ]
  },
  {
   "cell_type": "markdown",
   "metadata": {},
   "source": [
    "Metacharacters.\n",
    "Here's a few metacharacters that you can use:\n",
    "\n",
    "- ^ - the start of a string\n",
    "- [^0-9] This matches everything except [0-9] because of ^; [^a-z] matches anything that's not a lowercase number.\n",
    "- $ - the end of a string\n",
    "- + - if 1 or more happens\n",
    "- * - if 0 or more happens\n",
    "- ? - makes the value before ? optional (as discussed above)\n",
    "- | - the or operator (from above as well)"
   ]
  },
  {
   "cell_type": "code",
   "execution_count": 43,
   "metadata": {},
   "outputs": [
    {
     "name": "stdout",
     "output_type": "stream",
     "text": [
      "uppercase_match <re.Match object; span=(0, 1), match='A'>\n",
      "uppercase_not_match None\n"
     ]
    }
   ],
   "source": [
    "first_letter_uppercase_match_pattern = \"^[A-Z]\"\n",
    "\n",
    "print(\"uppercase_match\", re.compile(first_letter_uppercase_match_pattern).match(\"Another\"))\n",
    "\n",
    "print(\"uppercase_not_match\", re.compile(first_letter_uppercase_match_pattern).match(\"not Another\"))"
   ]
  },
  {
   "cell_type": "code",
   "execution_count": 44,
   "metadata": {},
   "outputs": [
    {
     "name": "stdout",
     "output_type": "stream",
     "text": [
      "non_number_extraction_pattern Hi there, my home number is --- and my cell number is ---.\n"
     ]
    }
   ],
   "source": [
    "non_number_extraction_pattern = r\"[^0-9]\"\n",
    "\n",
    "long_example =  \"Hi there, my home number is 1-555-867-5309 and my cell number is 1-555-555-0007.\"\n",
    "\n",
    "matched = re.findall(non_number_extraction_pattern, long_example)\n",
    "\n",
    "print(\"non_number_extraction_pattern\", \"\".join(matched))"
   ]
  },
  {
   "cell_type": "code",
   "execution_count": 45,
   "metadata": {},
   "outputs": [
    {
     "name": "stdout",
     "output_type": "stream",
     "text": [
      "\"This is not going to work!\" False\n",
      "\"This will work.\" True\n",
      "\"But will this?\" True\n"
     ]
    }
   ],
   "source": [
    "ends_with_period_or_q_mark = r\"(\\.|\\?)$\"\n",
    "\n",
    "this_fails = \"This is not going to work!\"\n",
    "\n",
    "this_works = \"This will work.\"\n",
    "\n",
    "this_works_2 = \"But will this?\"\n",
    "\n",
    "\n",
    "print(f\"\\\"{this_fails}\\\"\",  re.search(ends_with_period_or_q_mark, this_fails) != None)\n",
    "\n",
    "print(f\"\\\"{this_works}\\\"\", re.search(ends_with_period_or_q_mark, this_works) != None)\n",
    "\n",
    "print(f\"\\\"{this_works_2}\\\"\", re.search(ends_with_period_or_q_mark, this_works_2) != None)"
   ]
  },
  {
   "cell_type": "markdown",
   "metadata": {},
   "source": [
    "Regex Substitution.\n",
    "Learn to use re.sub to dynamically replace values based on a matched pattern."
   ]
  },
  {
   "cell_type": "code",
   "execution_count": 46,
   "metadata": {},
   "outputs": [
    {
     "data": {
      "text/plain": [
       "\"Let's hide my phone numbers like ***-***-****.\""
      ]
     },
     "execution_count": 46,
     "metadata": {},
     "output_type": "execute_result"
    }
   ],
   "source": [
    "group_1 = \"(\\d{1})-?\"\n",
    "group_2 = \"(\\d{3})-?\"\n",
    "group_3 = \"(\\d{3})-?\"\n",
    "group_4 = \"(\\d{4})\"\n",
    "grouped_pattern = f\"{group_1}{group_2}{group_3}{group_4}\"\n",
    "\n",
    "sample = \"Let's hide my phone numbers like 1-212-555-5123.\"\n",
    "replacement = \"***-***-****\"\n",
    "re.sub(grouped_pattern, replacement, sample)"
   ]
  },
  {
   "cell_type": "markdown",
   "metadata": {},
   "source": [
    "Named Regex Substitution.\n",
    "To use a named group in a sub, you have to use the format \\g<named-group-var-name> so r=\"(?P<domain>[\\w\\.]+)\" becomes \\g<domain>\n",
    "\n",
    "Let's see:"
   ]
  },
  {
   "cell_type": "code",
   "execution_count": 47,
   "metadata": {},
   "outputs": [
    {
     "data": {
      "text/plain": [
       "'****@gmail.com'"
      ]
     },
     "execution_count": 47,
     "metadata": {},
     "output_type": "execute_result"
    }
   ],
   "source": [
    "email_pattern = \"(?P<username>\\w+)@(?P<domain>[\\w\\.]+)\"\n",
    "\n",
    "re.sub(email_pattern, \"****@\\g<domain>\", \"j@gmail.com\")"
   ]
  },
  {
   "cell_type": "markdown",
   "metadata": {},
   "source": [
    "Group Regex Substitution.\n",
    "Let's see the above example as an unnamed group, you have to use the format \\g<group_index>. The possible group_index values for the pattern r=\"(\\w+).(\\w+)\" is \\g<0>, \\g<1>, and \\g<2>. \\g<0> is for the entire pattern. \\g<1> is for the first sub-group.\n",
    "\n",
    "Let's see:"
   ]
  },
  {
   "cell_type": "code",
   "execution_count": 48,
   "metadata": {},
   "outputs": [
    {
     "data": {
      "text/plain": [
       "'****@j'"
      ]
     },
     "execution_count": 48,
     "metadata": {},
     "output_type": "execute_result"
    }
   ],
   "source": [
    "email_pattern = \"(\\w+)@([\\w\\.]+)\"\n",
    "\n",
    "re.sub(email_pattern, \"****@\\g<1>\", \"j@gmail.com\")"
   ]
  },
  {
   "cell_type": "markdown",
   "metadata": {},
   "source": [
    "Repeating patterns.\n",
    "\\w matches all characters. Appending the + to it, will repeat that pattern until it's broken such as a space or punctuation."
   ]
  },
  {
   "cell_type": "code",
   "execution_count": 49,
   "metadata": {},
   "outputs": [
    {
     "data": {
      "text/plain": [
       "['This', 'is', 'going', 'to', 'work']"
      ]
     },
     "execution_count": 49,
     "metadata": {},
     "output_type": "execute_result"
    }
   ],
   "source": [
    "repeating_pattern = \"\\w+\"\n",
    "sentence = \"This is going to work!\"\n",
    "re.findall(repeating_pattern, sentence)"
   ]
  },
  {
   "cell_type": "markdown",
   "metadata": {},
   "source": [
    "Notice how the above pattern removes all spaces and punctuation. It's very practical. Compare this without the +:"
   ]
  },
  {
   "cell_type": "code",
   "execution_count": 50,
   "metadata": {},
   "outputs": [
    {
     "data": {
      "text/plain": [
       "['T',\n",
       " 'h',\n",
       " 'i',\n",
       " 's',\n",
       " 'i',\n",
       " 's',\n",
       " 'g',\n",
       " 'o',\n",
       " 'i',\n",
       " 'n',\n",
       " 'g',\n",
       " 't',\n",
       " 'o',\n",
       " 'w',\n",
       " 'o',\n",
       " 'r',\n",
       " 'k']"
      ]
     },
     "execution_count": 50,
     "metadata": {},
     "output_type": "execute_result"
    }
   ],
   "source": [
    "repeating_pattern = \"\\w\"\n",
    "sentence = \"This is going to work!\"\n",
    "re.findall(repeating_pattern, sentence)"
   ]
  },
  {
   "cell_type": "markdown",
   "metadata": {},
   "source": [
    "Let's use the * now."
   ]
  },
  {
   "cell_type": "code",
   "execution_count": 51,
   "metadata": {},
   "outputs": [
    {
     "data": {
      "text/plain": [
       "['This', '', 'is', '', 'going', '', 'to', '', 'work', '', '']"
      ]
     },
     "execution_count": 51,
     "metadata": {},
     "output_type": "execute_result"
    }
   ],
   "source": [
    "repeating_pattern = \"\\w*\"\n",
    "sentence = \"This is going to work!\"\n",
    "re.findall(repeating_pattern, sentence)"
   ]
  },
  {
   "cell_type": "markdown",
   "metadata": {},
   "source": [
    "So the * will return something even if there is no match. So \\w matches all characters, adding * will still match all characters and return just \"\" if no matches found.\n",
    "\n",
    "Here's some additional reference:\n",
    "\n",
    "- \\d: Matches any decimal digit; this is equivalent to the class 0-9.\n",
    "- \\D: Matches any non-digit character; this is equivalent to the class ^0-9.\n",
    "- \\s: Matches any whitespace character; this is equivalent to the class \\t\\n\\r\\f\\v.\n",
    "- \\S: Matches any non-whitespace character; this is equivalent to the class ^ \\t\\n\\r\\f\\v.\n",
    "- \\w: Matches any alphanumeric character; this is equivalent to the class a-zA-Z0-9_.\n",
    "- \\W:Matches any non-alphanumeric character; this is equivalent to the class ^a-zA-Z0-9_.\n",
    "Naturally, the python docs for regex are incredibly useful too."
   ]
  },
  {
   "cell_type": "code",
   "execution_count": null,
   "metadata": {},
   "outputs": [],
   "source": []
  }
 ],
 "metadata": {
  "kernelspec": {
   "display_name": "Python 3",
   "language": "python",
   "name": "python3"
  },
  "language_info": {
   "codemirror_mode": {
    "name": "ipython",
    "version": 3
   },
   "file_extension": ".py",
   "mimetype": "text/x-python",
   "name": "python",
   "nbconvert_exporter": "python",
   "pygments_lexer": "ipython3",
   "version": "3.8.2"
  }
 },
 "nbformat": 4,
 "nbformat_minor": 4
}
