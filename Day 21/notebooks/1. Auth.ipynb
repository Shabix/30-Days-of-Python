{
 "cells": [
  {
   "cell_type": "code",
   "execution_count": 1,
   "metadata": {},
   "outputs": [
    {
     "name": "stdout",
     "output_type": "stream",
     "text": [
      "Requirement already satisfied: requests in c:\\users\\charmz\\desktop\\hands-on projects\\30-days-of-python\\day 21\\spotify\\lib\\site-packages (2.24.0)\n",
      "Requirement already satisfied: certifi>=2017.4.17 in c:\\users\\charmz\\desktop\\hands-on projects\\30-days-of-python\\day 21\\spotify\\lib\\site-packages (from requests) (2020.6.20)\n",
      "Requirement already satisfied: urllib3!=1.25.0,!=1.25.1,<1.26,>=1.21.1 in c:\\users\\charmz\\desktop\\hands-on projects\\30-days-of-python\\day 21\\spotify\\lib\\site-packages (from requests) (1.25.10)\n",
      "Requirement already satisfied: idna<3,>=2.5 in c:\\users\\charmz\\desktop\\hands-on projects\\30-days-of-python\\day 21\\spotify\\lib\\site-packages (from requests) (2.10)\n",
      "Requirement already satisfied: chardet<4,>=3.0.2 in c:\\users\\charmz\\desktop\\hands-on projects\\30-days-of-python\\day 21\\spotify\\lib\\site-packages (from requests) (3.0.4)\n"
     ]
    },
    {
     "name": "stderr",
     "output_type": "stream",
     "text": [
      "WARNING: You are using pip version 19.2.3, however version 20.2.1 is available.\n",
      "You should consider upgrading via the 'python -m pip install --upgrade pip' command.\n"
     ]
    }
   ],
   "source": [
    "!pip install requests"
   ]
  },
  {
   "cell_type": "code",
   "execution_count": 2,
   "metadata": {},
   "outputs": [],
   "source": [
    "import requests\n",
    "import datetime"
   ]
  },
  {
   "cell_type": "code",
   "execution_count": 3,
   "metadata": {},
   "outputs": [],
   "source": [
    "import base64"
   ]
  },
  {
   "cell_type": "code",
   "execution_count": 4,
   "metadata": {},
   "outputs": [],
   "source": [
    "client_id = \"c060a698be6449279c07f9f4a3c6e952\"\n",
    "client_secret = \"92f9c0d577024d3e85ee90482b268e19\""
   ]
  },
  {
   "cell_type": "code",
   "execution_count": 5,
   "metadata": {},
   "outputs": [],
   "source": [
    "client_creds = f\"{client_id}:{client_secret}\""
   ]
  },
  {
   "cell_type": "code",
   "execution_count": 6,
   "metadata": {},
   "outputs": [
    {
     "data": {
      "text/plain": [
       "b'YzA2MGE2OThiZTY0NDkyNzljMDdmOWY0YTNjNmU5NTI6OTJmOWMwZDU3NzAyNGQzZTg1ZWU5MDQ4MmIyNjhlMTk='"
      ]
     },
     "execution_count": 6,
     "metadata": {},
     "output_type": "execute_result"
    }
   ],
   "source": [
    "client_creds_b64 = base64.b64encode(client_creds.encode())\n",
    "client_creds_b64"
   ]
  },
  {
   "cell_type": "code",
   "execution_count": 7,
   "metadata": {},
   "outputs": [],
   "source": [
    "# str = base64.b64decode(client_creds_b64)\n",
    "# str.decode()"
   ]
  },
  {
   "cell_type": "code",
   "execution_count": 8,
   "metadata": {},
   "outputs": [],
   "source": [
    "# do a lookup for a token\n",
    "# this token is for future requests\n",
    "token_url = \"https://accounts.spotify.com/api/token\"\n",
    "method = \"POST\"\n",
    "token_data = {\n",
    "    \"grant_type\":\"client_credentials\"\n",
    "}\n",
    "token_headers = {\n",
    "    \"Authorization\":f\"Basic {client_creds_b64.decode()}\" #\"Basic <base64 encoded client_id:client_secret>\"\n",
    "}"
   ]
  },
  {
   "cell_type": "code",
   "execution_count": 9,
   "metadata": {},
   "outputs": [
    {
     "name": "stdout",
     "output_type": "stream",
     "text": [
      "{'access_token': 'BQAHtLt6nTADNGS196dbUAlkv3FGGgqkja-YdcmcCx6YI85xQIIQCNing3agiPjML8g25jS5e8l-q92cUfo', 'token_type': 'Bearer', 'expires_in': 3600, 'scope': ''}\n"
     ]
    }
   ],
   "source": [
    "r = requests.post(token_url,data=token_data,headers=token_headers)\n",
    "valid_request = r.status_code in range(200,299)\n",
    "print(r.json())"
   ]
  },
  {
   "cell_type": "code",
   "execution_count": 10,
   "metadata": {},
   "outputs": [],
   "source": [
    "if valid_request:\n",
    "    token_response_data = r.json()\n",
    "    now = datetime.datetime.now()\n",
    "    access_token = token_response_data['access_token'] # state-like item(they expire with time)\n",
    "    expires_in = token_response_data['expires_in'] # seconds\n",
    "    expires = now + datetime.timedelta(seconds=expires_in)\n",
    "    did_expire = expires < now"
   ]
  }
 ],
 "metadata": {
  "kernelspec": {
   "display_name": "Python 3",
   "language": "python",
   "name": "python3"
  },
  "language_info": {
   "codemirror_mode": {
    "name": "ipython",
    "version": 3
   },
   "file_extension": ".py",
   "mimetype": "text/x-python",
   "name": "python",
   "nbconvert_exporter": "python",
   "pygments_lexer": "ipython3",
   "version": "3.8.3"
  }
 },
 "nbformat": 4,
 "nbformat_minor": 4
}
