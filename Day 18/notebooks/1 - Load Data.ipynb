{
 "cells": [
  {
   "cell_type": "code",
   "execution_count": 1,
   "metadata": {},
   "outputs": [],
   "source": [
    "import os\n",
    "import pandas as pd"
   ]
  },
  {
   "cell_type": "code",
   "execution_count": 2,
   "metadata": {},
   "outputs": [
    {
     "name": "stdout",
     "output_type": "stream",
     "text": [
      "C:\\Users\\charmz\\Desktop\\Hands-On Projects\\30-Days-of-Python\\Day 18\\notebooks\n"
     ]
    }
   ],
   "source": [
    "cwd = os.getcwd() # dirname(abspath(__file__)) jupyter notebook doesn't support __file__\n",
    "print(cwd)"
   ]
  },
  {
   "cell_type": "code",
   "execution_count": 3,
   "metadata": {},
   "outputs": [
    {
     "name": "stdout",
     "output_type": "stream",
     "text": [
      "C:\\Users\\charmz\\Desktop\\Hands-On Projects\\30-Days-of-Python\\Day 18\n"
     ]
    }
   ],
   "source": [
    "BASE_DIR = os.path.dirname(cwd)\n",
    "print(BASE_DIR)\n",
    "DATA_DIR = os.path.join(BASE_DIR,\"data\")"
   ]
  },
  {
   "cell_type": "code",
   "execution_count": 4,
   "metadata": {},
   "outputs": [
    {
     "name": "stdout",
     "output_type": "stream",
     "text": [
      "C:\\Users\\charmz\\Desktop\\Hands-On Projects\\30-Days-of-Python\\Day 18\\data\n"
     ]
    }
   ],
   "source": [
    "print(DATA_DIR)"
   ]
  },
  {
   "cell_type": "code",
   "execution_count": 5,
   "metadata": {},
   "outputs": [
    {
     "data": {
      "text/plain": [
       "['2000.csv',\n",
       " '2001.csv',\n",
       " '2002.csv',\n",
       " '2003.csv',\n",
       " '2004.csv',\n",
       " '2005.csv',\n",
       " '2010.csv',\n",
       " '2011.csv',\n",
       " '2012.csv',\n",
       " '2013.csv',\n",
       " '2014.csv',\n",
       " '2015.csv',\n",
       " '2016.csv',\n",
       " '2017.csv',\n",
       " '2018.csv',\n",
       " '2019.csv',\n",
       " '2020.csv']"
      ]
     },
     "execution_count": 5,
     "metadata": {},
     "output_type": "execute_result"
    }
   ],
   "source": [
    "os.listdir(DATA_DIR)"
   ]
  },
  {
   "cell_type": "code",
   "execution_count": 6,
   "metadata": {},
   "outputs": [],
   "source": [
    "my_items = [{\"category\":\"Action\",\"title\":\"My awesome movie\"},{\"category\":\"Comedy\",\"title\":\"Home Alone\"}]\n",
    "\n",
    "df = pd.DataFrame(my_items)"
   ]
  },
  {
   "cell_type": "code",
   "execution_count": 7,
   "metadata": {},
   "outputs": [
    {
     "data": {
      "text/html": [
       "<div>\n",
       "<style scoped>\n",
       "    .dataframe tbody tr th:only-of-type {\n",
       "        vertical-align: middle;\n",
       "    }\n",
       "\n",
       "    .dataframe tbody tr th {\n",
       "        vertical-align: top;\n",
       "    }\n",
       "\n",
       "    .dataframe thead th {\n",
       "        text-align: right;\n",
       "    }\n",
       "</style>\n",
       "<table border=\"1\" class=\"dataframe\">\n",
       "  <thead>\n",
       "    <tr style=\"text-align: right;\">\n",
       "      <th></th>\n",
       "      <th>category</th>\n",
       "      <th>title</th>\n",
       "    </tr>\n",
       "  </thead>\n",
       "  <tbody>\n",
       "    <tr>\n",
       "      <th>0</th>\n",
       "      <td>Action</td>\n",
       "      <td>My awesome movie</td>\n",
       "    </tr>\n",
       "    <tr>\n",
       "      <th>1</th>\n",
       "      <td>Comedy</td>\n",
       "      <td>Home Alone</td>\n",
       "    </tr>\n",
       "  </tbody>\n",
       "</table>\n",
       "</div>"
      ],
      "text/plain": [
       "  category             title\n",
       "0   Action  My awesome movie\n",
       "1   Comedy        Home Alone"
      ]
     },
     "execution_count": 7,
     "metadata": {},
     "output_type": "execute_result"
    }
   ],
   "source": [
    "df"
   ]
  },
  {
   "cell_type": "code",
   "execution_count": 8,
   "metadata": {},
   "outputs": [
    {
     "data": {
      "text/plain": [
       "0    Action\n",
       "1    Comedy\n",
       "Name: category, dtype: object"
      ]
     },
     "execution_count": 8,
     "metadata": {},
     "output_type": "execute_result"
    }
   ],
   "source": [
    "df['category'] # return column values"
   ]
  },
  {
   "cell_type": "code",
   "execution_count": 9,
   "metadata": {},
   "outputs": [
    {
     "data": {
      "text/plain": [
       "0    My awesome movie\n",
       "1          Home Alone\n",
       "Name: title, dtype: object"
      ]
     },
     "execution_count": 9,
     "metadata": {},
     "output_type": "execute_result"
    }
   ],
   "source": [
    "df['title'] # return column values"
   ]
  },
  {
   "cell_type": "code",
   "execution_count": 10,
   "metadata": {},
   "outputs": [
    {
     "data": {
      "text/plain": [
       "category              Action\n",
       "title       My awesome movie\n",
       "Name: 0, dtype: object"
      ]
     },
     "execution_count": 10,
     "metadata": {},
     "output_type": "execute_result"
    }
   ],
   "source": [
    "df.iloc[0] # return row index values"
   ]
  },
  {
   "cell_type": "code",
   "execution_count": 11,
   "metadata": {},
   "outputs": [
    {
     "data": {
      "text/plain": [
       "category        Comedy\n",
       "title       Home Alone\n",
       "Name: 1, dtype: object"
      ]
     },
     "execution_count": 11,
     "metadata": {},
     "output_type": "execute_result"
    }
   ],
   "source": [
    "df.iloc[1]  # return row index values"
   ]
  },
  {
   "cell_type": "code",
   "execution_count": 12,
   "metadata": {},
   "outputs": [],
   "source": [
    "#load csv approach #1\n",
    "df00 = pd.read_csv(f'{DATA_DIR}/2000.csv')"
   ]
  },
  {
   "cell_type": "code",
   "execution_count": 13,
   "metadata": {},
   "outputs": [
    {
     "data": {
      "text/html": [
       "<div>\n",
       "<style scoped>\n",
       "    .dataframe tbody tr th:only-of-type {\n",
       "        vertical-align: middle;\n",
       "    }\n",
       "\n",
       "    .dataframe tbody tr th {\n",
       "        vertical-align: top;\n",
       "    }\n",
       "\n",
       "    .dataframe thead th {\n",
       "        text-align: right;\n",
       "    }\n",
       "</style>\n",
       "<table border=\"1\" class=\"dataframe\">\n",
       "  <thead>\n",
       "    <tr style=\"text-align: right;\">\n",
       "      <th></th>\n",
       "      <th>Rank</th>\n",
       "      <th>Release Group</th>\n",
       "      <th>Worldwide</th>\n",
       "      <th>Domestic</th>\n",
       "      <th>%</th>\n",
       "      <th>Foreign</th>\n",
       "      <th>%.1</th>\n",
       "    </tr>\n",
       "  </thead>\n",
       "  <tbody>\n",
       "    <tr>\n",
       "      <th>0</th>\n",
       "      <td>1</td>\n",
       "      <td>Mission: Impossible II</td>\n",
       "      <td>$546,388,108</td>\n",
       "      <td>$215,409,889</td>\n",
       "      <td>39.4%</td>\n",
       "      <td>$330,978,219</td>\n",
       "      <td>60.6%</td>\n",
       "    </tr>\n",
       "    <tr>\n",
       "      <th>1</th>\n",
       "      <td>2</td>\n",
       "      <td>Gladiator</td>\n",
       "      <td>$460,583,960</td>\n",
       "      <td>$187,705,427</td>\n",
       "      <td>40.8%</td>\n",
       "      <td>$272,878,533</td>\n",
       "      <td>59.2%</td>\n",
       "    </tr>\n",
       "    <tr>\n",
       "      <th>2</th>\n",
       "      <td>3</td>\n",
       "      <td>Cast Away</td>\n",
       "      <td>$429,632,142</td>\n",
       "      <td>$233,632,142</td>\n",
       "      <td>54.4%</td>\n",
       "      <td>$196,000,000</td>\n",
       "      <td>45.6%</td>\n",
       "    </tr>\n",
       "    <tr>\n",
       "      <th>3</th>\n",
       "      <td>4</td>\n",
       "      <td>What Women Want</td>\n",
       "      <td>$374,111,707</td>\n",
       "      <td>$182,811,707</td>\n",
       "      <td>48.9%</td>\n",
       "      <td>$191,300,000</td>\n",
       "      <td>51.1%</td>\n",
       "    </tr>\n",
       "    <tr>\n",
       "      <th>4</th>\n",
       "      <td>5</td>\n",
       "      <td>Dinosaur</td>\n",
       "      <td>$349,822,765</td>\n",
       "      <td>$137,748,063</td>\n",
       "      <td>39.4%</td>\n",
       "      <td>$212,074,702</td>\n",
       "      <td>60.6%</td>\n",
       "    </tr>\n",
       "  </tbody>\n",
       "</table>\n",
       "</div>"
      ],
      "text/plain": [
       "   Rank           Release Group     Worldwide      Domestic      %  \\\n",
       "0     1  Mission: Impossible II  $546,388,108  $215,409,889  39.4%   \n",
       "1     2               Gladiator  $460,583,960  $187,705,427  40.8%   \n",
       "2     3               Cast Away  $429,632,142  $233,632,142  54.4%   \n",
       "3     4         What Women Want  $374,111,707  $182,811,707  48.9%   \n",
       "4     5                Dinosaur  $349,822,765  $137,748,063  39.4%   \n",
       "\n",
       "        Foreign    %.1  \n",
       "0  $330,978,219  60.6%  \n",
       "1  $272,878,533  59.2%  \n",
       "2  $196,000,000  45.6%  \n",
       "3  $191,300,000  51.1%  \n",
       "4  $212,074,702  60.6%  "
      ]
     },
     "execution_count": 13,
     "metadata": {},
     "output_type": "execute_result"
    }
   ],
   "source": [
    "df00.head()"
   ]
  },
  {
   "cell_type": "code",
   "execution_count": 14,
   "metadata": {},
   "outputs": [
    {
     "name": "stdout",
     "output_type": "stream",
     "text": [
      "True\n"
     ]
    }
   ],
   "source": [
    "#load csv approach #2\n",
    "my_data = os.path.join(DATA_DIR,'2019.csv')\n",
    "print(os.path.exists(my_data))"
   ]
  },
  {
   "cell_type": "code",
   "execution_count": 15,
   "metadata": {},
   "outputs": [
    {
     "data": {
      "text/html": [
       "<div>\n",
       "<style scoped>\n",
       "    .dataframe tbody tr th:only-of-type {\n",
       "        vertical-align: middle;\n",
       "    }\n",
       "\n",
       "    .dataframe tbody tr th {\n",
       "        vertical-align: top;\n",
       "    }\n",
       "\n",
       "    .dataframe thead th {\n",
       "        text-align: right;\n",
       "    }\n",
       "</style>\n",
       "<table border=\"1\" class=\"dataframe\">\n",
       "  <thead>\n",
       "    <tr style=\"text-align: right;\">\n",
       "      <th></th>\n",
       "      <th>Rank</th>\n",
       "      <th>Release Group</th>\n",
       "      <th>Worldwide</th>\n",
       "      <th>Domestic</th>\n",
       "      <th>%</th>\n",
       "      <th>Foreign</th>\n",
       "      <th>%.1</th>\n",
       "    </tr>\n",
       "  </thead>\n",
       "  <tbody>\n",
       "    <tr>\n",
       "      <th>0</th>\n",
       "      <td>1</td>\n",
       "      <td>Avengers: Endgame</td>\n",
       "      <td>$2,797,800,564</td>\n",
       "      <td>$858,373,000</td>\n",
       "      <td>30.7%</td>\n",
       "      <td>$1,939,427,564</td>\n",
       "      <td>69.3%</td>\n",
       "    </tr>\n",
       "    <tr>\n",
       "      <th>1</th>\n",
       "      <td>2</td>\n",
       "      <td>The Lion King</td>\n",
       "      <td>$1,656,943,394</td>\n",
       "      <td>$543,638,043</td>\n",
       "      <td>32.8%</td>\n",
       "      <td>$1,113,305,351</td>\n",
       "      <td>67.2%</td>\n",
       "    </tr>\n",
       "    <tr>\n",
       "      <th>2</th>\n",
       "      <td>3</td>\n",
       "      <td>Frozen II</td>\n",
       "      <td>$1,450,026,933</td>\n",
       "      <td>$477,373,578</td>\n",
       "      <td>32.9%</td>\n",
       "      <td>$972,653,355</td>\n",
       "      <td>67.1%</td>\n",
       "    </tr>\n",
       "    <tr>\n",
       "      <th>3</th>\n",
       "      <td>4</td>\n",
       "      <td>Spider-Man: Far from Home</td>\n",
       "      <td>$1,131,927,996</td>\n",
       "      <td>$390,532,085</td>\n",
       "      <td>34.5%</td>\n",
       "      <td>$741,395,911</td>\n",
       "      <td>65.5%</td>\n",
       "    </tr>\n",
       "    <tr>\n",
       "      <th>4</th>\n",
       "      <td>5</td>\n",
       "      <td>Captain Marvel</td>\n",
       "      <td>$1,128,274,794</td>\n",
       "      <td>$426,829,839</td>\n",
       "      <td>37.8%</td>\n",
       "      <td>$701,444,955</td>\n",
       "      <td>62.2%</td>\n",
       "    </tr>\n",
       "  </tbody>\n",
       "</table>\n",
       "</div>"
      ],
      "text/plain": [
       "   Rank              Release Group       Worldwide      Domestic      %  \\\n",
       "0     1          Avengers: Endgame  $2,797,800,564  $858,373,000  30.7%   \n",
       "1     2              The Lion King  $1,656,943,394  $543,638,043  32.8%   \n",
       "2     3                  Frozen II  $1,450,026,933  $477,373,578  32.9%   \n",
       "3     4  Spider-Man: Far from Home  $1,131,927,996  $390,532,085  34.5%   \n",
       "4     5             Captain Marvel  $1,128,274,794  $426,829,839  37.8%   \n",
       "\n",
       "          Foreign    %.1  \n",
       "0  $1,939,427,564  69.3%  \n",
       "1  $1,113,305,351  67.2%  \n",
       "2    $972,653,355  67.1%  \n",
       "3    $741,395,911  65.5%  \n",
       "4    $701,444,955  62.2%  "
      ]
     },
     "execution_count": 15,
     "metadata": {},
     "output_type": "execute_result"
    }
   ],
   "source": [
    "df2 = pd.read_csv(my_data)\n",
    "df2.head()"
   ]
  },
  {
   "cell_type": "code",
   "execution_count": null,
   "metadata": {},
   "outputs": [],
   "source": [
    "# combining csv files into one"
   ]
  }
 ],
 "metadata": {
  "kernelspec": {
   "display_name": "Python 3",
   "language": "python",
   "name": "python3"
  },
  "language_info": {
   "codemirror_mode": {
    "name": "ipython",
    "version": 3
   },
   "file_extension": ".py",
   "mimetype": "text/x-python",
   "name": "python",
   "nbconvert_exporter": "python",
   "pygments_lexer": "ipython3",
   "version": "3.8.3"
  }
 },
 "nbformat": 4,
 "nbformat_minor": 4
}
