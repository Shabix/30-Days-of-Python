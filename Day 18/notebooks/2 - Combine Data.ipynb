{
 "cells": [
  {
   "cell_type": "code",
   "execution_count": 1,
   "metadata": {},
   "outputs": [],
   "source": [
    "import os\n",
    "import pandas as pd"
   ]
  },
  {
   "cell_type": "code",
   "execution_count": 2,
   "metadata": {},
   "outputs": [],
   "source": [
    "cwd = os.getcwd() # dirname(abspath(__file__)) jupyter notebook doesn't support __file__"
   ]
  },
  {
   "cell_type": "code",
   "execution_count": 24,
   "metadata": {},
   "outputs": [],
   "source": [
    "BASE_DIR = os.path.dirname(cwd)\n",
    "#print(BASE_DIR)\n",
    "DATA_DIR = os.path.join(BASE_DIR,\"data\")\n",
    "#print(DATA_DIR)\n",
    "CACHE_DIR = os.path.join(BASE_DIR,\"cache\")\n",
    "os.makedirs(CACHE_DIR,exist_ok=True)"
   ]
  },
  {
   "cell_type": "code",
   "execution_count": 4,
   "metadata": {},
   "outputs": [
    {
     "name": "stdout",
     "output_type": "stream",
     "text": [
      "2000.csv\n",
      "2001.csv\n",
      "2002.csv\n",
      "2003.csv\n",
      "2004.csv\n",
      "2005.csv\n",
      "2010.csv\n",
      "2011.csv\n",
      "2012.csv\n",
      "2013.csv\n",
      "2014.csv\n",
      "2015.csv\n",
      "2016.csv\n",
      "2017.csv\n",
      "2018.csv\n",
      "2019.csv\n",
      "2020.csv\n"
     ]
    }
   ],
   "source": [
    "for file in os.listdir(DATA_DIR):\n",
    "    print(file)"
   ]
  },
  {
   "cell_type": "code",
   "execution_count": 5,
   "metadata": {},
   "outputs": [],
   "source": [
    "df03 = pd.read_csv(f\"{DATA_DIR}/2003.csv\")"
   ]
  },
  {
   "cell_type": "code",
   "execution_count": 6,
   "metadata": {},
   "outputs": [
    {
     "data": {
      "text/html": [
       "<div>\n",
       "<style scoped>\n",
       "    .dataframe tbody tr th:only-of-type {\n",
       "        vertical-align: middle;\n",
       "    }\n",
       "\n",
       "    .dataframe tbody tr th {\n",
       "        vertical-align: top;\n",
       "    }\n",
       "\n",
       "    .dataframe thead th {\n",
       "        text-align: right;\n",
       "    }\n",
       "</style>\n",
       "<table border=\"1\" class=\"dataframe\">\n",
       "  <thead>\n",
       "    <tr style=\"text-align: right;\">\n",
       "      <th></th>\n",
       "      <th>Rank</th>\n",
       "      <th>Release Group</th>\n",
       "      <th>Worldwide</th>\n",
       "      <th>Domestic</th>\n",
       "      <th>%</th>\n",
       "      <th>Foreign</th>\n",
       "      <th>%.1</th>\n",
       "    </tr>\n",
       "  </thead>\n",
       "  <tbody>\n",
       "    <tr>\n",
       "      <th>0</th>\n",
       "      <td>1</td>\n",
       "      <td>The Lord of the Rings: The Return of the King</td>\n",
       "      <td>$1,140,444,782</td>\n",
       "      <td>$377,027,325</td>\n",
       "      <td>33.1%</td>\n",
       "      <td>$763,417,457</td>\n",
       "      <td>66.9%</td>\n",
       "    </tr>\n",
       "    <tr>\n",
       "      <th>1</th>\n",
       "      <td>2</td>\n",
       "      <td>Finding Nemo</td>\n",
       "      <td>$871,014,978</td>\n",
       "      <td>$339,714,978</td>\n",
       "      <td>39%</td>\n",
       "      <td>$531,300,000</td>\n",
       "      <td>61%</td>\n",
       "    </tr>\n",
       "    <tr>\n",
       "      <th>2</th>\n",
       "      <td>3</td>\n",
       "      <td>The Matrix Reloaded</td>\n",
       "      <td>$739,412,035</td>\n",
       "      <td>$281,576,461</td>\n",
       "      <td>38.1%</td>\n",
       "      <td>$457,835,574</td>\n",
       "      <td>61.9%</td>\n",
       "    </tr>\n",
       "    <tr>\n",
       "      <th>3</th>\n",
       "      <td>4</td>\n",
       "      <td>Pirates of the Caribbean: The Curse of the Bla...</td>\n",
       "      <td>$654,264,015</td>\n",
       "      <td>$305,413,918</td>\n",
       "      <td>46.7%</td>\n",
       "      <td>$348,850,097</td>\n",
       "      <td>53.3%</td>\n",
       "    </tr>\n",
       "    <tr>\n",
       "      <th>4</th>\n",
       "      <td>5</td>\n",
       "      <td>Bruce Almighty</td>\n",
       "      <td>$484,592,874</td>\n",
       "      <td>$242,829,261</td>\n",
       "      <td>50.1%</td>\n",
       "      <td>$241,763,613</td>\n",
       "      <td>49.9%</td>\n",
       "    </tr>\n",
       "  </tbody>\n",
       "</table>\n",
       "</div>"
      ],
      "text/plain": [
       "   Rank                                      Release Group       Worldwide  \\\n",
       "0     1      The Lord of the Rings: The Return of the King  $1,140,444,782   \n",
       "1     2                                       Finding Nemo    $871,014,978   \n",
       "2     3                                The Matrix Reloaded    $739,412,035   \n",
       "3     4  Pirates of the Caribbean: The Curse of the Bla...    $654,264,015   \n",
       "4     5                                     Bruce Almighty    $484,592,874   \n",
       "\n",
       "       Domestic      %       Foreign    %.1  \n",
       "0  $377,027,325  33.1%  $763,417,457  66.9%  \n",
       "1  $339,714,978    39%  $531,300,000    61%  \n",
       "2  $281,576,461  38.1%  $457,835,574  61.9%  \n",
       "3  $305,413,918  46.7%  $348,850,097  53.3%  \n",
       "4  $242,829,261  50.1%  $241,763,613  49.9%  "
      ]
     },
     "execution_count": 6,
     "metadata": {},
     "output_type": "execute_result"
    }
   ],
   "source": [
    "df03.head()"
   ]
  },
  {
   "cell_type": "code",
   "execution_count": 7,
   "metadata": {},
   "outputs": [],
   "source": [
    "df03['Year'] = 2003"
   ]
  },
  {
   "cell_type": "code",
   "execution_count": 8,
   "metadata": {},
   "outputs": [
    {
     "data": {
      "text/html": [
       "<div>\n",
       "<style scoped>\n",
       "    .dataframe tbody tr th:only-of-type {\n",
       "        vertical-align: middle;\n",
       "    }\n",
       "\n",
       "    .dataframe tbody tr th {\n",
       "        vertical-align: top;\n",
       "    }\n",
       "\n",
       "    .dataframe thead th {\n",
       "        text-align: right;\n",
       "    }\n",
       "</style>\n",
       "<table border=\"1\" class=\"dataframe\">\n",
       "  <thead>\n",
       "    <tr style=\"text-align: right;\">\n",
       "      <th></th>\n",
       "      <th>Rank</th>\n",
       "      <th>Release Group</th>\n",
       "      <th>Worldwide</th>\n",
       "      <th>Domestic</th>\n",
       "      <th>%</th>\n",
       "      <th>Foreign</th>\n",
       "      <th>%.1</th>\n",
       "      <th>Year</th>\n",
       "    </tr>\n",
       "  </thead>\n",
       "  <tbody>\n",
       "    <tr>\n",
       "      <th>0</th>\n",
       "      <td>1</td>\n",
       "      <td>The Lord of the Rings: The Return of the King</td>\n",
       "      <td>$1,140,444,782</td>\n",
       "      <td>$377,027,325</td>\n",
       "      <td>33.1%</td>\n",
       "      <td>$763,417,457</td>\n",
       "      <td>66.9%</td>\n",
       "      <td>2003</td>\n",
       "    </tr>\n",
       "    <tr>\n",
       "      <th>1</th>\n",
       "      <td>2</td>\n",
       "      <td>Finding Nemo</td>\n",
       "      <td>$871,014,978</td>\n",
       "      <td>$339,714,978</td>\n",
       "      <td>39%</td>\n",
       "      <td>$531,300,000</td>\n",
       "      <td>61%</td>\n",
       "      <td>2003</td>\n",
       "    </tr>\n",
       "    <tr>\n",
       "      <th>2</th>\n",
       "      <td>3</td>\n",
       "      <td>The Matrix Reloaded</td>\n",
       "      <td>$739,412,035</td>\n",
       "      <td>$281,576,461</td>\n",
       "      <td>38.1%</td>\n",
       "      <td>$457,835,574</td>\n",
       "      <td>61.9%</td>\n",
       "      <td>2003</td>\n",
       "    </tr>\n",
       "    <tr>\n",
       "      <th>3</th>\n",
       "      <td>4</td>\n",
       "      <td>Pirates of the Caribbean: The Curse of the Bla...</td>\n",
       "      <td>$654,264,015</td>\n",
       "      <td>$305,413,918</td>\n",
       "      <td>46.7%</td>\n",
       "      <td>$348,850,097</td>\n",
       "      <td>53.3%</td>\n",
       "      <td>2003</td>\n",
       "    </tr>\n",
       "    <tr>\n",
       "      <th>4</th>\n",
       "      <td>5</td>\n",
       "      <td>Bruce Almighty</td>\n",
       "      <td>$484,592,874</td>\n",
       "      <td>$242,829,261</td>\n",
       "      <td>50.1%</td>\n",
       "      <td>$241,763,613</td>\n",
       "      <td>49.9%</td>\n",
       "      <td>2003</td>\n",
       "    </tr>\n",
       "  </tbody>\n",
       "</table>\n",
       "</div>"
      ],
      "text/plain": [
       "   Rank                                      Release Group       Worldwide  \\\n",
       "0     1      The Lord of the Rings: The Return of the King  $1,140,444,782   \n",
       "1     2                                       Finding Nemo    $871,014,978   \n",
       "2     3                                The Matrix Reloaded    $739,412,035   \n",
       "3     4  Pirates of the Caribbean: The Curse of the Bla...    $654,264,015   \n",
       "4     5                                     Bruce Almighty    $484,592,874   \n",
       "\n",
       "       Domestic      %       Foreign    %.1  Year  \n",
       "0  $377,027,325  33.1%  $763,417,457  66.9%  2003  \n",
       "1  $339,714,978    39%  $531,300,000    61%  2003  \n",
       "2  $281,576,461  38.1%  $457,835,574  61.9%  2003  \n",
       "3  $305,413,918  46.7%  $348,850,097  53.3%  2003  \n",
       "4  $242,829,261  50.1%  $241,763,613  49.9%  2003  "
      ]
     },
     "execution_count": 8,
     "metadata": {},
     "output_type": "execute_result"
    }
   ],
   "source": [
    "df03.head()"
   ]
  },
  {
   "cell_type": "code",
   "execution_count": 12,
   "metadata": {},
   "outputs": [],
   "source": [
    "dataframes = []\n",
    "csv_files = [file for file in os.listdir(DATA_DIR) if file.endswith('.csv')] # make sure directory contains csv files only\n",
    "for file in csv_files:\n",
    "    #print(file)\n",
    "    #year = file.replace('.csv','')\n",
    "    csv_path = os.path.join(DATA_DIR,file)\n",
    "    this_df = pd.read_csv(csv_path)\n",
    "    #this_df['Year'] = year\n",
    "    this_df['Year'] = file.split('.')[0]\n",
    "    #print(this_df.head(1))\n",
    "    dataframes.append(this_df)"
   ]
  },
  {
   "cell_type": "code",
   "execution_count": 18,
   "metadata": {},
   "outputs": [
    {
     "data": {
      "text/html": [
       "<div>\n",
       "<style scoped>\n",
       "    .dataframe tbody tr th:only-of-type {\n",
       "        vertical-align: middle;\n",
       "    }\n",
       "\n",
       "    .dataframe tbody tr th {\n",
       "        vertical-align: top;\n",
       "    }\n",
       "\n",
       "    .dataframe thead th {\n",
       "        text-align: right;\n",
       "    }\n",
       "</style>\n",
       "<table border=\"1\" class=\"dataframe\">\n",
       "  <thead>\n",
       "    <tr style=\"text-align: right;\">\n",
       "      <th></th>\n",
       "      <th>Rank</th>\n",
       "      <th>Release Group</th>\n",
       "      <th>Worldwide</th>\n",
       "      <th>Domestic</th>\n",
       "      <th>%</th>\n",
       "      <th>Foreign</th>\n",
       "      <th>%.1</th>\n",
       "      <th>Year</th>\n",
       "    </tr>\n",
       "  </thead>\n",
       "  <tbody>\n",
       "    <tr>\n",
       "      <th>0</th>\n",
       "      <td>1</td>\n",
       "      <td>Mission: Impossible II</td>\n",
       "      <td>$546,388,108</td>\n",
       "      <td>$215,409,889</td>\n",
       "      <td>39.4%</td>\n",
       "      <td>$330,978,219</td>\n",
       "      <td>60.6%</td>\n",
       "      <td>2000</td>\n",
       "    </tr>\n",
       "    <tr>\n",
       "      <th>1</th>\n",
       "      <td>2</td>\n",
       "      <td>Gladiator</td>\n",
       "      <td>$460,583,960</td>\n",
       "      <td>$187,705,427</td>\n",
       "      <td>40.8%</td>\n",
       "      <td>$272,878,533</td>\n",
       "      <td>59.2%</td>\n",
       "      <td>2000</td>\n",
       "    </tr>\n",
       "    <tr>\n",
       "      <th>2</th>\n",
       "      <td>3</td>\n",
       "      <td>Cast Away</td>\n",
       "      <td>$429,632,142</td>\n",
       "      <td>$233,632,142</td>\n",
       "      <td>54.4%</td>\n",
       "      <td>$196,000,000</td>\n",
       "      <td>45.6%</td>\n",
       "      <td>2000</td>\n",
       "    </tr>\n",
       "    <tr>\n",
       "      <th>3</th>\n",
       "      <td>4</td>\n",
       "      <td>What Women Want</td>\n",
       "      <td>$374,111,707</td>\n",
       "      <td>$182,811,707</td>\n",
       "      <td>48.9%</td>\n",
       "      <td>$191,300,000</td>\n",
       "      <td>51.1%</td>\n",
       "      <td>2000</td>\n",
       "    </tr>\n",
       "    <tr>\n",
       "      <th>4</th>\n",
       "      <td>5</td>\n",
       "      <td>Dinosaur</td>\n",
       "      <td>$349,822,765</td>\n",
       "      <td>$137,748,063</td>\n",
       "      <td>39.4%</td>\n",
       "      <td>$212,074,702</td>\n",
       "      <td>60.6%</td>\n",
       "      <td>2000</td>\n",
       "    </tr>\n",
       "  </tbody>\n",
       "</table>\n",
       "</div>"
      ],
      "text/plain": [
       "   Rank           Release Group     Worldwide      Domestic      %  \\\n",
       "0     1  Mission: Impossible II  $546,388,108  $215,409,889  39.4%   \n",
       "1     2               Gladiator  $460,583,960  $187,705,427  40.8%   \n",
       "2     3               Cast Away  $429,632,142  $233,632,142  54.4%   \n",
       "3     4         What Women Want  $374,111,707  $182,811,707  48.9%   \n",
       "4     5                Dinosaur  $349,822,765  $137,748,063  39.4%   \n",
       "\n",
       "        Foreign    %.1  Year  \n",
       "0  $330,978,219  60.6%  2000  \n",
       "1  $272,878,533  59.2%  2000  \n",
       "2  $196,000,000  45.6%  2000  \n",
       "3  $191,300,000  51.1%  2000  \n",
       "4  $212,074,702  60.6%  2000  "
      ]
     },
     "execution_count": 18,
     "metadata": {},
     "output_type": "execute_result"
    }
   ],
   "source": [
    "my_entire_dataframe = pd.concat(dataframes)\n",
    "my_entire_dataframe.head()"
   ]
  },
  {
   "cell_type": "code",
   "execution_count": 26,
   "metadata": {},
   "outputs": [],
   "source": [
    "dataset = os.path.join(CACHE_DIR,'movies-box-office-dataset.csv')\n",
    "my_entire_dataframe.to_csv(dataset,index=False)"
   ]
  },
  {
   "cell_type": "code",
   "execution_count": 23,
   "metadata": {},
   "outputs": [
    {
     "name": "stdout",
     "output_type": "stream",
     "text": [
      "<class 'pandas.core.frame.DataFrame'>\n",
      "Int64Index: 10110 entries, 0 to 31\n",
      "Data columns (total 8 columns):\n",
      " #   Column         Non-Null Count  Dtype \n",
      "---  ------         --------------  ----- \n",
      " 0   Rank           10110 non-null  int64 \n",
      " 1   Release Group  10110 non-null  object\n",
      " 2   Worldwide      10110 non-null  object\n",
      " 3   Domestic       10110 non-null  object\n",
      " 4   %              10110 non-null  object\n",
      " 5   Foreign        10110 non-null  object\n",
      " 6   %.1            10110 non-null  object\n",
      " 7   Year           10110 non-null  object\n",
      "dtypes: int64(1), object(7)\n",
      "memory usage: 710.9+ KB\n"
     ]
    }
   ],
   "source": [
    "my_entire_dataframe.info()"
   ]
  },
  {
   "cell_type": "code",
   "execution_count": 19,
   "metadata": {},
   "outputs": [],
   "source": [
    "# Combining the csv files using the glob library # approach 2\n",
    "from glob import glob"
   ]
  },
  {
   "cell_type": "code",
   "execution_count": 20,
   "metadata": {},
   "outputs": [
    {
     "data": {
      "text/plain": [
       "['C:\\\\Users\\\\charmz\\\\Desktop\\\\Hands-On Projects\\\\30-Days-of-Python\\\\Day 18\\\\data\\\\2000.csv',\n",
       " 'C:\\\\Users\\\\charmz\\\\Desktop\\\\Hands-On Projects\\\\30-Days-of-Python\\\\Day 18\\\\data\\\\2001.csv',\n",
       " 'C:\\\\Users\\\\charmz\\\\Desktop\\\\Hands-On Projects\\\\30-Days-of-Python\\\\Day 18\\\\data\\\\2002.csv',\n",
       " 'C:\\\\Users\\\\charmz\\\\Desktop\\\\Hands-On Projects\\\\30-Days-of-Python\\\\Day 18\\\\data\\\\2003.csv',\n",
       " 'C:\\\\Users\\\\charmz\\\\Desktop\\\\Hands-On Projects\\\\30-Days-of-Python\\\\Day 18\\\\data\\\\2004.csv',\n",
       " 'C:\\\\Users\\\\charmz\\\\Desktop\\\\Hands-On Projects\\\\30-Days-of-Python\\\\Day 18\\\\data\\\\2005.csv',\n",
       " 'C:\\\\Users\\\\charmz\\\\Desktop\\\\Hands-On Projects\\\\30-Days-of-Python\\\\Day 18\\\\data\\\\2010.csv',\n",
       " 'C:\\\\Users\\\\charmz\\\\Desktop\\\\Hands-On Projects\\\\30-Days-of-Python\\\\Day 18\\\\data\\\\2011.csv',\n",
       " 'C:\\\\Users\\\\charmz\\\\Desktop\\\\Hands-On Projects\\\\30-Days-of-Python\\\\Day 18\\\\data\\\\2012.csv',\n",
       " 'C:\\\\Users\\\\charmz\\\\Desktop\\\\Hands-On Projects\\\\30-Days-of-Python\\\\Day 18\\\\data\\\\2013.csv',\n",
       " 'C:\\\\Users\\\\charmz\\\\Desktop\\\\Hands-On Projects\\\\30-Days-of-Python\\\\Day 18\\\\data\\\\2014.csv',\n",
       " 'C:\\\\Users\\\\charmz\\\\Desktop\\\\Hands-On Projects\\\\30-Days-of-Python\\\\Day 18\\\\data\\\\2015.csv',\n",
       " 'C:\\\\Users\\\\charmz\\\\Desktop\\\\Hands-On Projects\\\\30-Days-of-Python\\\\Day 18\\\\data\\\\2016.csv',\n",
       " 'C:\\\\Users\\\\charmz\\\\Desktop\\\\Hands-On Projects\\\\30-Days-of-Python\\\\Day 18\\\\data\\\\2017.csv',\n",
       " 'C:\\\\Users\\\\charmz\\\\Desktop\\\\Hands-On Projects\\\\30-Days-of-Python\\\\Day 18\\\\data\\\\2018.csv',\n",
       " 'C:\\\\Users\\\\charmz\\\\Desktop\\\\Hands-On Projects\\\\30-Days-of-Python\\\\Day 18\\\\data\\\\2019.csv',\n",
       " 'C:\\\\Users\\\\charmz\\\\Desktop\\\\Hands-On Projects\\\\30-Days-of-Python\\\\Day 18\\\\data\\\\2020.csv']"
      ]
     },
     "execution_count": 20,
     "metadata": {},
     "output_type": "execute_result"
    }
   ],
   "source": [
    "movie_files = sorted(glob(f'{DATA_DIR}/2*.csv'))\n",
    "movie_files"
   ]
  },
  {
   "cell_type": "code",
   "execution_count": 22,
   "metadata": {},
   "outputs": [],
   "source": [
    "movie_db = pd.concat((pd.read_csv(file) for file in movie_files))"
   ]
  }
 ],
 "metadata": {
  "kernelspec": {
   "display_name": "Python 3",
   "language": "python",
   "name": "python3"
  },
  "language_info": {
   "codemirror_mode": {
    "name": "ipython",
    "version": 3
   },
   "file_extension": ".py",
   "mimetype": "text/x-python",
   "name": "python",
   "nbconvert_exporter": "python",
   "pygments_lexer": "ipython3",
   "version": "3.8.3"
  }
 },
 "nbformat": 4,
 "nbformat_minor": 4
}
