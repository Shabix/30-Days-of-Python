{
 "cells": [
  {
   "cell_type": "code",
   "execution_count": 1,
   "metadata": {},
   "outputs": [],
   "source": [
    "import requests\n",
    "from requests_html import HTML\n",
    "from selenium import webdriver\n",
    "from selenium.webdriver.chrome.options import Options"
   ]
  },
  {
   "cell_type": "code",
   "execution_count": 2,
   "metadata": {},
   "outputs": [],
   "source": [
    "options = Options()\n",
    "options.add_argument(\"--headless\") # don't open up browser\n",
    "\n",
    "driver = webdriver.Chrome(options=options) # emulate a mobile web browser"
   ]
  },
  {
   "cell_type": "code",
   "execution_count": null,
   "metadata": {},
   "outputs": [],
   "source": [
    "categories = [\n",
    "    \"Toy Figures & Playsets\":\"https://www.amazon.com/s?bbn=165795011&rh=n%3A165793011%2Cn%3A%21165795011%2Cn%3A165993011%2Cp_n_shipping_option-bin%3A3242350011&dc&fst=as%3Aoff&pf_rd_i=16225015011&pf_rd_m=ATVPDKIKX0DER&pf_rd_p=da121563-253a-4b83-b6ab-b694e4e456ac&pf_rd_r=BMY4KW2BKY4M68Q1AJPZ&pf_rd_s=merchandised-search-4&pf_rd_t=101&qid=1486493146&rnid=165795011&ref=s9_acss_bw_cts_TOY1_T1_w\",\n",
    "    \n",
    "]"
   ]
  }
 ],
 "metadata": {
  "kernelspec": {
   "display_name": "Python 3",
   "language": "python",
   "name": "python3"
  },
  "language_info": {
   "codemirror_mode": {
    "name": "ipython",
    "version": 3
   },
   "file_extension": ".py",
   "mimetype": "text/x-python",
   "name": "python",
   "nbconvert_exporter": "python",
   "pygments_lexer": "ipython3",
   "version": "3.8.3"
  }
 },
 "nbformat": 4,
 "nbformat_minor": 4
}
