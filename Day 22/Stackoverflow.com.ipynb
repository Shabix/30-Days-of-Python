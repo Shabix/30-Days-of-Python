{
 "cells": [
  {
   "cell_type": "code",
   "execution_count": 28,
   "metadata": {},
   "outputs": [
    {
     "name": "stdout",
     "output_type": "stream",
     "text": [
      "Collecting pandas\n",
      "  Using cached https://files.pythonhosted.org/packages/f1/e1/56bf2e1b92ce1361169aff7ba0316d211339cc8e2737f5f2e7a5930c9574/pandas-1.1.0-cp38-cp38-win_amd64.whl\n",
      "Collecting numpy>=1.15.4 (from pandas)\n",
      "  Using cached https://files.pythonhosted.org/packages/c7/7d/ea9e28c3a99f50e77ee9a0e3759adb6537b2bb7a84aef27b8c0ddc431b48/numpy-1.19.1-cp38-cp38-win_amd64.whl\n",
      "Collecting pytz>=2017.2 (from pandas)\n",
      "  Using cached https://files.pythonhosted.org/packages/4f/a4/879454d49688e2fad93e59d7d4efda580b783c745fd2ec2a3adf87b0808d/pytz-2020.1-py2.py3-none-any.whl\n",
      "Requirement already satisfied: python-dateutil>=2.7.3 in c:\\users\\charmz\\desktop\\hands-on projects\\30-days-of-python\\day 22\\stackoverflw\\lib\\site-packages (from pandas) (2.8.1)"
     ]
    },
    {
     "name": "stderr",
     "output_type": "stream",
     "text": [
      "WARNING: You are using pip version 19.2.3, however version 20.2.2 is available.\n",
      "You should consider upgrading via the 'python -m pip install --upgrade pip' command.\n"
     ]
    },
    {
     "name": "stdout",
     "output_type": "stream",
     "text": [
      "\n",
      "Requirement already satisfied: six>=1.5 in c:\\users\\charmz\\desktop\\hands-on projects\\30-days-of-python\\day 22\\stackoverflw\\lib\\site-packages (from python-dateutil>=2.7.3->pandas) (1.15.0)\n",
      "Installing collected packages: numpy, pytz, pandas\n",
      "Successfully installed numpy-1.19.1 pandas-1.1.0 pytz-2020.1\n"
     ]
    }
   ],
   "source": [
    "!pip install pandas"
   ]
  },
  {
   "cell_type": "code",
   "execution_count": 30,
   "metadata": {},
   "outputs": [],
   "source": [
    "import requests\n",
    "from requests_html import HTML\n",
    "import time\n",
    "import pandas as pd"
   ]
  },
  {
   "cell_type": "code",
   "execution_count": 2,
   "metadata": {
    "scrolled": true
   },
   "outputs": [
    {
     "name": "stdout",
     "output_type": "stream",
     "text": [
      "https://stackoverflow.com/tags/python?tab=Votes\n"
     ]
    }
   ],
   "source": [
    "base_url = \"https://stackoverflow.com/tags/\"\n",
    "tag = \"python\"\n",
    "query_filter = \"Votes\"\n",
    "url = f\"{base_url}{tag}?tab={query_filter}\"\n",
    "print(url)"
   ]
  },
  {
   "cell_type": "code",
   "execution_count": 3,
   "metadata": {},
   "outputs": [],
   "source": [
    "r = requests.get(url)\n",
    "html_str = r.text\n",
    "html = HTML(html=html_str)"
   ]
  },
  {
   "cell_type": "code",
   "execution_count": 4,
   "metadata": {},
   "outputs": [
    {
     "name": "stdout",
     "output_type": "stream",
     "text": [
      "[<Element 'div' class=('question-summary',) id='question-summary-231767'>, <Element 'div' class=('question-summary',) id='question-summary-419163'>, <Element 'div' class=('question-summary',) id='question-summary-394809'>, <Element 'div' class=('question-summary',) id='question-summary-100003'>, <Element 'div' class=('question-summary',) id='question-summary-82831'>, <Element 'div' class=('question-summary',) id='question-summary-89228'>, <Element 'div' class=('question-summary',) id='question-summary-38987'>, <Element 'div' class=('question-summary',) id='question-summary-273192'>, <Element 'div' class=('question-summary',) id='question-summary-522563'>, <Element 'div' class=('question-summary',) id='question-summary-136097'>, <Element 'div' class=('question-summary',) id='question-summary-3437059'>, <Element 'div' class=('question-summary',) id='question-summary-952914'>, <Element 'div' class=('question-summary',) id='question-summary-3207219'>, <Element 'div' class=('question-summary',) id='question-summary-613183'>, <Element 'div' class=('question-summary',) id='question-summary-509211'>, <Element 'div' class=('question-summary',) id='question-summary-176918'>, <Element 'div' class=('question-summary',) id='question-summary-53513'>, <Element 'div' class=('question-summary',) id='question-summary-3294889'>, <Element 'div' class=('question-summary',) id='question-summary-423379'>, <Element 'div' class=('question-summary',) id='question-summary-252703'>, <Element 'div' class=('question-summary',) id='question-summary-415511'>, <Element 'div' class=('question-summary',) id='question-summary-6470428'>, <Element 'div' class=('question-summary',) id='question-summary-1436703'>, <Element 'div' class=('question-summary',) id='question-summary-739654'>, <Element 'div' class=('question-summary',) id='question-summary-510348'>, <Element 'div' class=('question-summary',) id='question-summary-1024847'>, <Element 'div' class=('question-summary',) id='question-summary-1602934'>, <Element 'div' class=('question-summary',) id='question-summary-986006'>, <Element 'div' class=('question-summary',) id='question-summary-1132941'>, <Element 'div' class=('question-summary',) id='question-summary-2612802'>, <Element 'div' class=('question-summary',) id='question-summary-1720421'>, <Element 'div' class=('question-summary',) id='question-summary-123198'>, <Element 'div' class=('question-summary',) id='question-summary-576169'>, <Element 'div' class=('question-summary',) id='question-summary-4750806'>, <Element 'div' class=('question-summary',) id='question-summary-606191'>, <Element 'div' class=('question-summary',) id='question-summary-448271'>, <Element 'div' class=('question-summary',) id='question-summary-36901'>, <Element 'div' class=('question-summary',) id='question-summary-312443'>, <Element 'div' class=('question-summary',) id='question-summary-2052390'>, <Element 'div' class=('question-summary',) id='question-summary-379906'>, <Element 'div' class=('question-summary',) id='question-summary-5137497'>, <Element 'div' class=('question-summary',) id='question-summary-466345'>, <Element 'div' class=('question-summary',) id='question-summary-6996603'>, <Element 'div' class=('question-summary',) id='question-summary-287871'>, <Element 'div' class=('question-summary',) id='question-summary-663171'>, <Element 'div' class=('question-summary',) id='question-summary-4906977'>, <Element 'div' class=('question-summary',) id='question-summary-30081275'>, <Element 'div' class=('question-summary',) id='question-summary-332289'>, <Element 'div' class=('question-summary',) id='question-summary-930397'>, <Element 'div' class=('question-summary',) id='question-summary-16476924'>]\n"
     ]
    }
   ],
   "source": [
    "question_summaries = html.find('.question-summary')\n",
    "print(question_summaries)"
   ]
  },
  {
   "cell_type": "code",
   "execution_count": 5,
   "metadata": {},
   "outputs": [
    {
     "name": "stdout",
     "output_type": "stream",
     "text": [
      "10398\n",
      "votes\n",
      "41answers\n",
      "2.3m views\n",
      "What does the “yield” keyword do?\n",
      "What is the use of the yield keyword in Python, and what does it do? For example, I'm trying to understand this code1: def _get_child_candidates(self, distance, min_dist, max_dist): if self....\n",
      "python iterator generator yield coroutine\n",
      "asked Oct 23 '08 at 22:21\n",
      "Alex. S.\n",
      "118k1515 gold badges4949 silver badges6161 bronze badges\n"
     ]
    }
   ],
   "source": [
    "print(question_summaries[0].text)"
   ]
  },
  {
   "cell_type": "code",
   "execution_count": 6,
   "metadata": {},
   "outputs": [],
   "source": [
    "columns = ['votes','vote_title','num_answers','views','question','short_desc','tags','date','user','user_details']"
   ]
  },
  {
   "cell_type": "code",
   "execution_count": 7,
   "metadata": {},
   "outputs": [],
   "source": [
    "# this_row = list(question_summaries[0].text.split('\\n'))\n",
    "# this_row"
   ]
  },
  {
   "cell_type": "code",
   "execution_count": 8,
   "metadata": {},
   "outputs": [],
   "source": [
    "# len(this_row) == len(columns)"
   ]
  },
  {
   "cell_type": "code",
   "execution_count": 9,
   "metadata": {},
   "outputs": [],
   "source": [
    "# row_data = dict(zip(columns,this_row))\n",
    "# row_data"
   ]
  },
  {
   "cell_type": "code",
   "execution_count": 10,
   "metadata": {},
   "outputs": [],
   "source": [
    "# for col_val,row_val in zip(columns,this_row):\n",
    "#     print(col_val,row_val)"
   ]
  },
  {
   "cell_type": "code",
   "execution_count": 11,
   "metadata": {},
   "outputs": [
    {
     "data": {
      "text/plain": [
       "'What does the “yield” keyword do?'"
      ]
     },
     "execution_count": 11,
     "metadata": {},
     "output_type": "execute_result"
    }
   ],
   "source": [
    "keynames = ['question','votes','tags']\n",
    "classes_needed = ['.question-hyperlink','.vote','.tags']\n",
    "this_question_element = question_summaries[0]\n",
    "this_question_element.find('.question-hyperlink',first=True).text"
   ]
  },
  {
   "cell_type": "code",
   "execution_count": 12,
   "metadata": {},
   "outputs": [
    {
     "data": {
      "text/plain": [
       "'10398'"
      ]
     },
     "execution_count": 12,
     "metadata": {},
     "output_type": "execute_result"
    }
   ],
   "source": [
    "this_question_element.find('.vote',first=True).text.replace('\\nvotes','')"
   ]
  },
  {
   "cell_type": "code",
   "execution_count": 13,
   "metadata": {},
   "outputs": [],
   "source": [
    "def clean_scrapped_data(text,keyname=None):\n",
    "    if keyname == 'votes':\n",
    "        return text.replace('\\nvotes','')\n",
    "    return text"
   ]
  },
  {
   "cell_type": "code",
   "execution_count": 14,
   "metadata": {},
   "outputs": [],
   "source": [
    "datas = []\n",
    "for q_el in question_summaries:\n",
    "    question_data ={}\n",
    "    for i, _class in enumerate(classes_needed):\n",
    "        keyname = keynames[i]\n",
    "        question_data[keyname] = clean_scrapped_data(q_el.find(_class,first=True).text,keyname=keyname)\n",
    "        datas.append(question_data)\n",
    "        \n",
    "# datas[0]"
   ]
  },
  {
   "cell_type": "code",
   "execution_count": 15,
   "metadata": {},
   "outputs": [],
   "source": [
    "def parse_tagged_page(html):\n",
    "    question_summaries = html.find('.question-summary')\n",
    "    keynames = ['question','votes','tags']\n",
    "    classes_needed = ['.question-hyperlink','.vote','.tags']\n",
    "    datas = []\n",
    "    for q_el in question_summaries:\n",
    "        question_data ={}\n",
    "        for i, _class in enumerate(classes_needed):\n",
    "            keyname = keynames[i]\n",
    "            question_data[keyname] = clean_scrapped_data(q_el.find(_class,first=True).text,keyname=keyname)\n",
    "            datas.append(question_data)\n",
    "    return datas"
   ]
  },
  {
   "cell_type": "code",
   "execution_count": 17,
   "metadata": {},
   "outputs": [],
   "source": [
    "def extract_data_from_url(url):\n",
    "    r = requests.get(url)\n",
    "    if r.status_code not in range(200,299):\n",
    "        return []\n",
    "    html_str = r.text\n",
    "    html = HTML(html=html_str)\n",
    "    datas = parse_tagged_page(html)\n",
    "    return datas"
   ]
  },
  {
   "cell_type": "code",
   "execution_count": 56,
   "metadata": {},
   "outputs": [],
   "source": [
    "def scrape_tag(tag=\"machine-learning\",query_filter=\"Votes\",max_pages=50,pagesize=25):\n",
    "    base_url = \"https://stackoverflow.com/tags/\"\n",
    "    datas = []\n",
    "    for p in range(max_pages):\n",
    "        page_num = p + 1\n",
    "        url = f\"{base_url}{tag}?tab={query_filter}&page={page_num}&pagesize={pagesize}\"\n",
    "        #print(url)\n",
    "        datas += extract_data_from_url(url)\n",
    "        time.sleep(1.2)\n",
    "    return datas"
   ]
  },
  {
   "cell_type": "code",
   "execution_count": 57,
   "metadata": {},
   "outputs": [],
   "source": [
    "datas = scrape_tag()\n",
    "#https://stackoverflow.com/questions/tagged/machine-learning?tab=votes&page=2&pagesize=15"
   ]
  },
  {
   "cell_type": "code",
   "execution_count": 60,
   "metadata": {},
   "outputs": [
    {
     "data": {
      "text/plain": [
       "7500"
      ]
     },
     "execution_count": 60,
     "metadata": {},
     "output_type": "execute_result"
    }
   ],
   "source": [
    "len(datas)"
   ]
  },
  {
   "cell_type": "code",
   "execution_count": 61,
   "metadata": {},
   "outputs": [
    {
     "data": {
      "text/html": [
       "<div>\n",
       "<style scoped>\n",
       "    .dataframe tbody tr th:only-of-type {\n",
       "        vertical-align: middle;\n",
       "    }\n",
       "\n",
       "    .dataframe tbody tr th {\n",
       "        vertical-align: top;\n",
       "    }\n",
       "\n",
       "    .dataframe thead th {\n",
       "        text-align: right;\n",
       "    }\n",
       "</style>\n",
       "<table border=\"1\" class=\"dataframe\">\n",
       "  <thead>\n",
       "    <tr style=\"text-align: right;\">\n",
       "      <th></th>\n",
       "      <th>question</th>\n",
       "      <th>votes</th>\n",
       "      <th>tags</th>\n",
       "    </tr>\n",
       "  </thead>\n",
       "  <tbody>\n",
       "    <tr>\n",
       "      <th>0</th>\n",
       "      <td>What is the role of the bias in neural networks?</td>\n",
       "      <td>825</td>\n",
       "      <td>machine-learning neural-network artificial-int...</td>\n",
       "    </tr>\n",
       "    <tr>\n",
       "      <th>1</th>\n",
       "      <td>What is the role of the bias in neural networks?</td>\n",
       "      <td>825</td>\n",
       "      <td>machine-learning neural-network artificial-int...</td>\n",
       "    </tr>\n",
       "    <tr>\n",
       "      <th>2</th>\n",
       "      <td>What is the role of the bias in neural networks?</td>\n",
       "      <td>825</td>\n",
       "      <td>machine-learning neural-network artificial-int...</td>\n",
       "    </tr>\n",
       "    <tr>\n",
       "      <th>3</th>\n",
       "      <td>What is the difference between a generative an...</td>\n",
       "      <td>595</td>\n",
       "      <td>algorithm machine-learning difference</td>\n",
       "    </tr>\n",
       "    <tr>\n",
       "      <th>4</th>\n",
       "      <td>What is the difference between a generative an...</td>\n",
       "      <td>595</td>\n",
       "      <td>algorithm machine-learning difference</td>\n",
       "    </tr>\n",
       "  </tbody>\n",
       "</table>\n",
       "</div>"
      ],
      "text/plain": [
       "                                            question votes  \\\n",
       "0   What is the role of the bias in neural networks?   825   \n",
       "1   What is the role of the bias in neural networks?   825   \n",
       "2   What is the role of the bias in neural networks?   825   \n",
       "3  What is the difference between a generative an...   595   \n",
       "4  What is the difference between a generative an...   595   \n",
       "\n",
       "                                                tags  \n",
       "0  machine-learning neural-network artificial-int...  \n",
       "1  machine-learning neural-network artificial-int...  \n",
       "2  machine-learning neural-network artificial-int...  \n",
       "3              algorithm machine-learning difference  \n",
       "4              algorithm machine-learning difference  "
      ]
     },
     "execution_count": 61,
     "metadata": {},
     "output_type": "execute_result"
    }
   ],
   "source": [
    "df = pd.DataFrame(datas)\n",
    "df.head()"
   ]
  },
  {
   "cell_type": "code",
   "execution_count": 62,
   "metadata": {},
   "outputs": [
    {
     "data": {
      "text/plain": [
       "(7500, 3)"
      ]
     },
     "execution_count": 62,
     "metadata": {},
     "output_type": "execute_result"
    }
   ],
   "source": [
    "df.shape"
   ]
  },
  {
   "cell_type": "code",
   "execution_count": 63,
   "metadata": {},
   "outputs": [],
   "source": [
    "df.to_csv(\"python.csv\",index=False)"
   ]
  },
  {
   "cell_type": "code",
   "execution_count": 34,
   "metadata": {},
   "outputs": [],
   "source": [
    "# auto-tagging question bot"
   ]
  }
 ],
 "metadata": {
  "kernelspec": {
   "display_name": "Python 3",
   "language": "python",
   "name": "python3"
  },
  "language_info": {
   "codemirror_mode": {
    "name": "ipython",
    "version": 3
   },
   "file_extension": ".py",
   "mimetype": "text/x-python",
   "name": "python",
   "nbconvert_exporter": "python",
   "pygments_lexer": "ipython3",
   "version": "3.8.3"
  }
 },
 "nbformat": 4,
 "nbformat_minor": 4
}
